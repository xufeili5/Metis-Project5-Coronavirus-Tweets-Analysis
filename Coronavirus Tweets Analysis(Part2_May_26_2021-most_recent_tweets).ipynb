{
 "cells": [
  {
   "cell_type": "markdown",
   "id": "planned-plumbing",
   "metadata": {},
   "source": [
    "# Import libriaries, connect to twitter API"
   ]
  },
  {
   "cell_type": "code",
   "execution_count": 1,
   "id": "chubby-clothing",
   "metadata": {},
   "outputs": [],
   "source": [
    "import tweepy as tw\n",
    "import numpy as np\n",
    "import pandas as pd\n",
    "import time\n",
    "import random\n",
    "\n",
    "from sklearn.feature_extraction.text import TfidfVectorizer, ENGLISH_STOP_WORDS\n",
    "from sklearn.decomposition import NMF, TruncatedSVD, LatentDirichletAllocation\n",
    "\n",
    "from geopy.geocoders import Nominatim\n",
    "import gmplot\n",
    "\n",
    "pd.set_option(\"max_colwidth\", 500)"
   ]
  },
  {
   "cell_type": "code",
   "execution_count": 2,
   "id": "residential-palmer",
   "metadata": {},
   "outputs": [],
   "source": [
    "#my key & secret\n",
    "consumer_key=  ********\n",
    "consumer_secret=  ********\n",
    "access_token_key=  ********\n",
    "access_token_secret=  ********"
   ]
  },
  {
   "cell_type": "code",
   "execution_count": 3,
   "id": "suburban-summit",
   "metadata": {},
   "outputs": [],
   "source": [
    "auth = tw.OAuthHandler(consumer_key, consumer_secret)\n",
    "auth.set_access_token(access_token_key, access_token_secret)\n",
    "api = tw.API(auth)"
   ]
  },
  {
   "cell_type": "code",
   "execution_count": 4,
   "id": "greenhouse-november",
   "metadata": {},
   "outputs": [],
   "source": [
    "res = []\n",
    "for i in range(10):  #50 times, 100 tweets each\n",
    "    tweets = tw.Cursor(api.search,\n",
    "                  q='vaccine-filter:retweets',\n",
    "                  lang=\"en\",\n",
    "                  tweet_mode='extended').items(500)\n",
    "\n",
    "    tweets_list = [[tweet.id, tweet.user.id, tweet.created_at, \n",
    "                    tweet.user.location, tweet.full_text] for tweet in tweets]\n",
    "    res.extend(tweets_list)\n",
    "    time.sleep(300+5*random.random()) #every 5 miutes\n",
    "    print(i, 'done')\n",
    "    \n",
    "tweets_df = pd.DataFrame(res,columns=['Tweet_id', 'User_id', 'TweetAt', 'Location', 'OriginalTweet'])"
   ]
  },
  {
   "cell_type": "code",
   "execution_count": 5,
   "id": "solid-utilization",
   "metadata": {},
   "outputs": [],
   "source": [
    "#check mark\n",
    "tweets_df.to_csv(\"data/new_tweets_May_26_2021.csv\")"
   ]
  },
  {
   "cell_type": "code",
   "execution_count": 7,
   "id": "living-crown",
   "metadata": {},
   "outputs": [],
   "source": [
    "#read csv file\n",
    "new_tweets = pd.read_csv(\"data/new_tweets_May_26_2021.csv\", index_col = 0)\n",
    "new_tweets = new_tweets.drop_duplicates(subset=['Tweet_id'])\n",
    "new_tweets.drop_duplicates(subset=['OriginalTweet'], inplace = True)"
   ]
  },
  {
   "cell_type": "code",
   "execution_count": 8,
   "id": "editorial-giving",
   "metadata": {},
   "outputs": [
    {
     "data": {
      "text/plain": [
       "(2483, 5)"
      ]
     },
     "execution_count": 8,
     "metadata": {},
     "output_type": "execute_result"
    }
   ],
   "source": [
    "#only select English tweets for analysis\n",
    "def isEnglish(s):\n",
    "    try:\n",
    "        s.encode(encoding='utf-8').decode('ascii')\n",
    "    except UnicodeDecodeError:\n",
    "        return False\n",
    "    else:\n",
    "        return True\n",
    "new_tweets = new_tweets[new_tweets.OriginalTweet.apply(isEnglish)]\n",
    "new_tweets.shape #2483 English tweets"
   ]
  },
  {
   "cell_type": "code",
   "execution_count": 9,
   "id": "atlantic-dairy",
   "metadata": {},
   "outputs": [],
   "source": [
    "geolocator = Nominatim(user_agent = \"geoapiExercises\")\n",
    "\n",
    "# Go through all tweets and add locations to 'coordinates' dictionary\n",
    "coordinates = {'latitude': [], 'longitude': []}\n",
    "for count, user_loc in enumerate(new_tweets.sample(500).Location):\n",
    "    try:\n",
    "        location = geolocator.geocode(user_loc)\n",
    "        \n",
    "        # If coordinates are found for location\n",
    "        if location:\n",
    "            coordinates['latitude'].append(location.latitude)\n",
    "            coordinates['longitude'].append(location.longitude)\n",
    "            \n",
    "    # If too many connection requests\n",
    "    except:\n",
    "        pass\n",
    "    \n",
    "# Instantiate and center a GoogleMapPlotter object to show our map\n",
    "gmap = gmplot.GoogleMapPlotter(30, 0, 3)\n",
    "\n",
    "# Insert points on the map passing a list of latitudes and longitudes\n",
    "gmap.heatmap(coordinates['latitude'], coordinates['longitude'], radius=20)\n",
    "\n",
    "# Save the map to html file\n",
    "gmap.draw(\"visualization/Coronavirus_May26_2021.html\")"
   ]
  },
  {
   "cell_type": "markdown",
   "id": "victorian-convention",
   "metadata": {},
   "source": [
    "### Extract Country information from messy Location column."
   ]
  },
  {
   "cell_type": "code",
   "execution_count": 10,
   "id": "median-electricity",
   "metadata": {},
   "outputs": [],
   "source": [
    "def country_convert(loc):\n",
    "    try:\n",
    "        geolocator = Nominatim(user_agent = 'myencoder')#\"geoapiExercises\"\n",
    "        location = geolocator.geocode(loc)\n",
    "        return location.address.split(',')[-1].lstrip()\n",
    "    except AttributeError:\n",
    "        # print(\"Unrecognizable: \", loc)\n",
    "        # time.sleep(5)\n",
    "        return 'N/A'    \n",
    "    except:\n",
    "        pass"
   ]
  },
  {
   "cell_type": "code",
   "execution_count": 11,
   "id": "close-dutch",
   "metadata": {},
   "outputs": [],
   "source": [
    "new_tweets['Country'] = new_tweets['Location'].apply(country_convert)"
   ]
  },
  {
   "cell_type": "code",
   "execution_count": 12,
   "id": "multiple-bulgarian",
   "metadata": {},
   "outputs": [],
   "source": [
    "new_tweets.to_csv(\"data/new_tweets_wlocation_May_26_2021.csv\")\n",
    "new_tweets = pd.read_csv(\"data/new_tweets_wlocation_May_26_2021.csv\", index_col = 0)"
   ]
  },
  {
   "cell_type": "code",
   "execution_count": 13,
   "id": "flexible-circular",
   "metadata": {},
   "outputs": [
    {
     "data": {
      "text/plain": [
       "Italia             760\n",
       "United States      693\n",
       "Australia          209\n",
       "Canada             209\n",
       "United Kingdom      96\n",
       "                  ... \n",
       "Zimbabwe             1\n",
       "Perú                 1\n",
       "Barbados             1\n",
       "North America        1\n",
       "Κύπρος - Kıbrıs      1\n",
       "Name: Country, Length: 77, dtype: int64"
      ]
     },
     "execution_count": 13,
     "metadata": {},
     "output_type": "execute_result"
    }
   ],
   "source": [
    "# Country counts - not much data from UK because the time I collect data is around 7pm CST which is around 1am in UK\n",
    "new_tweets.Country.value_counts() "
   ]
  },
  {
   "cell_type": "markdown",
   "id": "opening-exploration",
   "metadata": {},
   "source": [
    "# Step 2: Text Preprocessing(TF-IDF: tokenization)"
   ]
  },
  {
   "cell_type": "markdown",
   "id": "becoming-disclaimer",
   "metadata": {},
   "source": [
    "### standardizing text"
   ]
  },
  {
   "cell_type": "code",
   "execution_count": 15,
   "id": "roman-hunter",
   "metadata": {},
   "outputs": [],
   "source": [
    "def standardize_text(text):\n",
    "    text = text.replace(r\"http\\S+\", \"\")\n",
    "    text = text.replace(r\"http\", \"\")\n",
    "    text = text.replace(r\"@\\S+\", \"\")\n",
    "    text = text.replace(r\"[^A-Za-z0-9(),!?@\\'\\`\\\"\\_\\n]\", \" \")\n",
    "    text = text.replace(r\"@\", \"at\")\n",
    "    text = text.lower()\n",
    "    return text"
   ]
  },
  {
   "cell_type": "code",
   "execution_count": 16,
   "id": "parallel-planner",
   "metadata": {},
   "outputs": [],
   "source": [
    "new_tweets['Clean_Tweet'] = new_tweets['OriginalTweet'].apply(standardize_text)"
   ]
  },
  {
   "cell_type": "code",
   "execution_count": 17,
   "id": "greek-camcorder",
   "metadata": {},
   "outputs": [],
   "source": [
    "corpus = new_tweets['Clean_Tweet']\n",
    "\n",
    "stop_words = ENGLISH_STOP_WORDS.union(['Covid', '19', 'Covid19', 'coronavirus', 'covid', 'covid19', 'covid_19'])\n",
    "vectorizer = TfidfVectorizer(stop_words=stop_words) #(stop_words = 'english')\n",
    "\n",
    "tweet_word_matrix = vectorizer.fit_transform(corpus) #sparse matrix\n",
    "vocab = vectorizer.get_feature_names()  #list of all the unique values/words"
   ]
  },
  {
   "cell_type": "code",
   "execution_count": 18,
   "id": "focused-shower",
   "metadata": {},
   "outputs": [],
   "source": [
    "new_tweets_clean = new_tweets[['Location', 'OriginalTweet','TweetAt', 'Clean_Tweet','Country']] #, 'Country'"
   ]
  },
  {
   "cell_type": "markdown",
   "id": "boring-duncan",
   "metadata": {},
   "source": [
    "# Step 3: NMF Topic Modeling"
   ]
  },
  {
   "cell_type": "markdown",
   "id": "portable-interim",
   "metadata": {},
   "source": [
    "### Tweet-Topic Matrix(10 components)"
   ]
  },
  {
   "cell_type": "code",
   "execution_count": 19,
   "id": "phantom-dover",
   "metadata": {},
   "outputs": [
    {
     "name": "stderr",
     "output_type": "stream",
     "text": [
      "/opt/anaconda3/envs/metis/lib/python3.8/site-packages/sklearn/decomposition/_nmf.py:312: FutureWarning: The 'init' value, when 'init=None' and n_components is less than n_samples and n_features, will be changed from 'nndsvd' to 'nndsvda' in 1.1 (renaming of 0.26).\n",
      "  warnings.warn((\"The 'init' value, when 'init=None' and \"\n"
     ]
    },
    {
     "data": {
      "text/html": [
       "<div>\n",
       "<style scoped>\n",
       "    .dataframe tbody tr th:only-of-type {\n",
       "        vertical-align: middle;\n",
       "    }\n",
       "\n",
       "    .dataframe tbody tr th {\n",
       "        vertical-align: top;\n",
       "    }\n",
       "\n",
       "    .dataframe thead th {\n",
       "        text-align: right;\n",
       "    }\n",
       "</style>\n",
       "<table border=\"1\" class=\"dataframe\">\n",
       "  <thead>\n",
       "    <tr style=\"text-align: right;\">\n",
       "      <th></th>\n",
       "      <th>topic_1</th>\n",
       "      <th>topic_2</th>\n",
       "      <th>topic_3</th>\n",
       "      <th>topic_4</th>\n",
       "      <th>topic_5</th>\n",
       "      <th>topic_6</th>\n",
       "      <th>topic_7</th>\n",
       "      <th>topic_8</th>\n",
       "      <th>topic_9</th>\n",
       "      <th>topic_10</th>\n",
       "      <th>OriginalTweet</th>\n",
       "      <th>Clean_Tweet</th>\n",
       "      <th>TweetAt</th>\n",
       "      <th>Country</th>\n",
       "    </tr>\n",
       "  </thead>\n",
       "  <tbody>\n",
       "    <tr>\n",
       "      <th>0</th>\n",
       "      <td>0.009245</td>\n",
       "      <td>0.0</td>\n",
       "      <td>0.047754</td>\n",
       "      <td>0.0</td>\n",
       "      <td>0.017704</td>\n",
       "      <td>0.014144</td>\n",
       "      <td>0.000000</td>\n",
       "      <td>0.066847</td>\n",
       "      <td>0.002193</td>\n",
       "      <td>0.003454</td>\n",
       "      <td>@DaronKnol @ronnoconiv @patriottakes I think the fact that Covid is not the Black Plague is what will stop them. If 2/3 of people who got Covid died, then vaccines would be made mandatory.\\n\\nCovid is simply not deathly enough to force unwilling Americans to get injections of a new vaccine.</td>\n",
       "      <td>atdaronknol atronnoconiv atpatriottakes i think the fact that covid is not the black plague is what will stop them. if 2/3 of people who got covid died, then vaccines would be made mandatory.\\n\\ncovid is simply not deathly enough to force unwilling americans to get injections of a new vaccine.</td>\n",
       "      <td>2021-05-26 22:50:22</td>\n",
       "      <td>United States</td>\n",
       "    </tr>\n",
       "    <tr>\n",
       "      <th>1</th>\n",
       "      <td>0.010963</td>\n",
       "      <td>0.0</td>\n",
       "      <td>0.000000</td>\n",
       "      <td>0.0</td>\n",
       "      <td>0.000000</td>\n",
       "      <td>0.000265</td>\n",
       "      <td>0.082131</td>\n",
       "      <td>0.000000</td>\n",
       "      <td>0.000000</td>\n",
       "      <td>0.000000</td>\n",
       "      <td>@jacds68 @AuthenticVegas @BNODesk Is that why they have such a slow vaccine rollout?</td>\n",
       "      <td>atjacds68 atauthenticvegas atbnodesk is that why they have such a slow vaccine rollout?</td>\n",
       "      <td>2021-05-26 22:50:20</td>\n",
       "      <td>Italia</td>\n",
       "    </tr>\n",
       "    <tr>\n",
       "      <th>2</th>\n",
       "      <td>0.042257</td>\n",
       "      <td>0.0</td>\n",
       "      <td>0.000000</td>\n",
       "      <td>0.0</td>\n",
       "      <td>0.000630</td>\n",
       "      <td>0.000000</td>\n",
       "      <td>0.000000</td>\n",
       "      <td>0.000000</td>\n",
       "      <td>0.000000</td>\n",
       "      <td>0.000063</td>\n",
       "      <td>Coronavirus: Influencers offered money to badmouth Pfizer vaccine https://t.co/6GXBw1k6v5</td>\n",
       "      <td>coronavirus: influencers offered money to badmouth pfizer vaccine s://t.co/6gxbw1k6v5</td>\n",
       "      <td>2021-05-26 22:50:19</td>\n",
       "      <td>United States</td>\n",
       "    </tr>\n",
       "    <tr>\n",
       "      <th>3</th>\n",
       "      <td>0.028503</td>\n",
       "      <td>0.0</td>\n",
       "      <td>0.028908</td>\n",
       "      <td>0.0</td>\n",
       "      <td>0.000000</td>\n",
       "      <td>0.000000</td>\n",
       "      <td>0.018887</td>\n",
       "      <td>0.024351</td>\n",
       "      <td>0.000000</td>\n",
       "      <td>0.000000</td>\n",
       "      <td>@shahid_siddiqui Oh Haan your leader Akhilesh said it's a BJP vaccine now why does he want it...Stop this shit we are not fools and we also know if it was any other government we would have struggled to get even one dose.....India will win under him...not by your hate against him..</td>\n",
       "      <td>atshahid_siddiqui oh haan your leader akhilesh said it's a bjp vaccine now why does he want it...stop this shit we are not fools and we also know if it was any other government we would have struggled to get even one dose.....india will win under him...not by your hate against him..</td>\n",
       "      <td>2021-05-26 22:50:19</td>\n",
       "      <td>Italia</td>\n",
       "    </tr>\n",
       "    <tr>\n",
       "      <th>4</th>\n",
       "      <td>0.020996</td>\n",
       "      <td>0.0</td>\n",
       "      <td>0.000000</td>\n",
       "      <td>0.0</td>\n",
       "      <td>0.000000</td>\n",
       "      <td>0.000000</td>\n",
       "      <td>0.000000</td>\n",
       "      <td>0.010850</td>\n",
       "      <td>0.000000</td>\n",
       "      <td>0.000000</td>\n",
       "      <td>@KatiePavlich But y'all fine to inhale it, not prevent it's spread with a piece of cloth and deny the vaccine. \\nWho's stupid now?</td>\n",
       "      <td>atkatiepavlich but y'all fine to inhale it, not prevent it's spread with a piece of cloth and deny the vaccine. \\nwho's stupid now?</td>\n",
       "      <td>2021-05-26 22:50:18</td>\n",
       "      <td>Italia</td>\n",
       "    </tr>\n",
       "  </tbody>\n",
       "</table>\n",
       "</div>"
      ],
      "text/plain": [
       "    topic_1  topic_2   topic_3  topic_4   topic_5   topic_6   topic_7  \\\n",
       "0  0.009245      0.0  0.047754      0.0  0.017704  0.014144  0.000000   \n",
       "1  0.010963      0.0  0.000000      0.0  0.000000  0.000265  0.082131   \n",
       "2  0.042257      0.0  0.000000      0.0  0.000630  0.000000  0.000000   \n",
       "3  0.028503      0.0  0.028908      0.0  0.000000  0.000000  0.018887   \n",
       "4  0.020996      0.0  0.000000      0.0  0.000000  0.000000  0.000000   \n",
       "\n",
       "    topic_8   topic_9  topic_10  \\\n",
       "0  0.066847  0.002193  0.003454   \n",
       "1  0.000000  0.000000  0.000000   \n",
       "2  0.000000  0.000000  0.000063   \n",
       "3  0.024351  0.000000  0.000000   \n",
       "4  0.010850  0.000000  0.000000   \n",
       "\n",
       "                                                                                                                                                                                                                                                                                         OriginalTweet  \\\n",
       "0  @DaronKnol @ronnoconiv @patriottakes I think the fact that Covid is not the Black Plague is what will stop them. If 2/3 of people who got Covid died, then vaccines would be made mandatory.\\n\\nCovid is simply not deathly enough to force unwilling Americans to get injections of a new vaccine.   \n",
       "1                                                                                                                                                                                                                 @jacds68 @AuthenticVegas @BNODesk Is that why they have such a slow vaccine rollout?   \n",
       "2                                                                                                                                                                                                            Coronavirus: Influencers offered money to badmouth Pfizer vaccine https://t.co/6GXBw1k6v5   \n",
       "3           @shahid_siddiqui Oh Haan your leader Akhilesh said it's a BJP vaccine now why does he want it...Stop this shit we are not fools and we also know if it was any other government we would have struggled to get even one dose.....India will win under him...not by your hate against him..   \n",
       "4                                                                                                                                                                   @KatiePavlich But y'all fine to inhale it, not prevent it's spread with a piece of cloth and deny the vaccine. \\nWho's stupid now?   \n",
       "\n",
       "                                                                                                                                                                                                                                                                                              Clean_Tweet  \\\n",
       "0  atdaronknol atronnoconiv atpatriottakes i think the fact that covid is not the black plague is what will stop them. if 2/3 of people who got covid died, then vaccines would be made mandatory.\\n\\ncovid is simply not deathly enough to force unwilling americans to get injections of a new vaccine.   \n",
       "1                                                                                                                                                                                                                 atjacds68 atauthenticvegas atbnodesk is that why they have such a slow vaccine rollout?   \n",
       "2                                                                                                                                                                                                                   coronavirus: influencers offered money to badmouth pfizer vaccine s://t.co/6gxbw1k6v5   \n",
       "3             atshahid_siddiqui oh haan your leader akhilesh said it's a bjp vaccine now why does he want it...stop this shit we are not fools and we also know if it was any other government we would have struggled to get even one dose.....india will win under him...not by your hate against him..   \n",
       "4                                                                                                                                                                     atkatiepavlich but y'all fine to inhale it, not prevent it's spread with a piece of cloth and deny the vaccine. \\nwho's stupid now?   \n",
       "\n",
       "               TweetAt        Country  \n",
       "0  2021-05-26 22:50:22  United States  \n",
       "1  2021-05-26 22:50:20         Italia  \n",
       "2  2021-05-26 22:50:19  United States  \n",
       "3  2021-05-26 22:50:19         Italia  \n",
       "4  2021-05-26 22:50:18         Italia  "
      ]
     },
     "execution_count": 19,
     "metadata": {},
     "output_type": "execute_result"
    }
   ],
   "source": [
    "nmf_10 = NMF(n_components=10)  #top 10 topic\n",
    "tweet_topic_matrix = nmf_10.fit_transform(tweet_word_matrix) \n",
    "\n",
    "tweet_topic_matrix_df = pd.DataFrame(tweet_topic_matrix, columns = [\"topic_1\",\"topic_2\", \"topic_3\",\"topic_4\", \n",
    "                      \"topic_5\",\"topic_6\",\"topic_7\",\"topic_8\", \"topic_9\", \"topic_10\"])\n",
    "\n",
    "tweet_topic_matrix_df[['OriginalTweet', 'Clean_Tweet', 'TweetAt','Country']] = new_tweets_clean.reset_index()[['OriginalTweet', 'Clean_Tweet','TweetAt','Country']]\n",
    "tweet_topic_matrix_df.head()"
   ]
  },
  {
   "cell_type": "markdown",
   "id": "antique-shopping",
   "metadata": {},
   "source": [
    "### Have a look at top 6 words for 10 topics to understand the topics"
   ]
  },
  {
   "cell_type": "code",
   "execution_count": 20,
   "id": "flush-cedar",
   "metadata": {},
   "outputs": [],
   "source": [
    "def get_top_topic_words(nmf):\n",
    "    topic_words = [] # list of lists, one for each topic\n",
    "\n",
    "    ### find the top 6 word weights for each topic component,\n",
    "    ### using terms to create a corresponding list of the top 8 words. \n",
    "    ### Add each list to topic_words \n",
    "    for topic in nmf.components_:  # for each components\n",
    "        top_terms = topic.argsort()[-6:]  #argsort: only asending order. top 8 words index for later to locate #a array\n",
    "        topic_words.append([vocab[top_term] for top_term in top_terms])  #use position to get word out from terms\n",
    "                                                                         #list of list\n",
    "\n",
    "    return topic_words"
   ]
  },
  {
   "cell_type": "code",
   "execution_count": 21,
   "id": "confirmed-girlfriend",
   "metadata": {},
   "outputs": [
    {
     "data": {
      "text/plain": [
       "[['atcatsandbuds420', 'pfizer', 'like', 'getting', 'just', 'vaccine'],\n",
       " ['03', '01', 'pune', '11', '00am', '00pm'],\n",
       " ['shot', 'today', 'vaccine', 'second', 'dose', 'got'],\n",
       " ['site', 'arrested', 'deliberately', 'plowing', 'tennessee', 'anti'],\n",
       " ['05', 'registration', 'available', '26', 'appointments', 'new'],\n",
       " ['global', 'concerns', 'atfacebook', 'secretly', 'censor', 'exposefacebook'],\n",
       " ['auspol', 'government', 'facilities', 'federal', 'rollout', 'quarantine'],\n",
       " ['vaccine', 'need', 'want', 'vaccinated', 'don', 'people'],\n",
       " ['dies', 'linked', 'rare', 'strokes', 'clots', 'astrazeneca'],\n",
       " ['health', 'county', 'second', 'administered', 'cases', 'doses']]"
      ]
     },
     "execution_count": 21,
     "metadata": {},
     "output_type": "execute_result"
    }
   ],
   "source": [
    "get_top_topic_words(nmf_10)\n",
    "# Topic1: 'pfizer vaccine'\n",
    "# Topic2: (#need more investigation here, and go back to text cleaning phase to remove the time slots. )\n",
    "# Topic3: 'people are receiving second dose of the vaccine'\n",
    "# Topic4: news - 'Tennessee anti-vaxxer arrested after deliberately plowing car through vaccination site '\n",
    "# Topic5: 'new appointment availible at pharmary(vaccine)'\n",
    "# Topic6: news - 'LEAKED INTERNAL DOCS(fb)'\n",
    "# Topic7: Breaking News- 'COVID OUTBREAK IN MELBOURNE, Australia'\n",
    "# Topic8: still about vaccine\n",
    "# Topic9: \"side effects of vaccine\"\n",
    "# Topic10: vaccine"
   ]
  },
  {
   "cell_type": "markdown",
   "id": "center-recipe",
   "metadata": {},
   "source": [
    "### Topic Interpretation(10 components)"
   ]
  },
  {
   "cell_type": "code",
   "execution_count": 22,
   "id": "flush-smooth",
   "metadata": {},
   "outputs": [],
   "source": [
    "words_topic_df = pd.DataFrame(nmf_10.components_.round(5),\n",
    "             index = [\"topic_1\",\"topic_2\", \"topic_3\",\"topic_4\", \n",
    "                      \"topic_5\",\"topic_6\",\"topic_7\",\"topic_8\", \"topic_9\", \"topic_10\"],\n",
    "             columns = vectorizer.get_feature_names()).T\n",
    "def topic_check(topic_name, n = 6):\n",
    "    print(words_topic_df.sort_values(by=topic_name, ascending=False)[topic_name].head(6))  \n",
    "    print('\\n')\n",
    "    print(tweet_topic_matrix_df.sort_values(by=topic_name, ascending=False)['OriginalTweet'].head(n))"
   ]
  },
  {
   "cell_type": "code",
   "execution_count": 23,
   "id": "sexual-reduction",
   "metadata": {},
   "outputs": [
    {
     "name": "stdout",
     "output_type": "stream",
     "text": [
      "people        1.65559\n",
      "don           0.43263\n",
      "vaccinated    0.39031\n",
      "want          0.36502\n",
      "need          0.17682\n",
      "vaccine       0.16785\n",
      "Name: topic_8, dtype: float64\n",
      "\n",
      "\n",
      "1175    @stephens_ben @shawna_burley @nickiclyne Probably the point that the vaccinated people can sit next to the unvaccinated people and seeing how the vaccine doesn't prevent the virus but reduces the effects of it then vaccinated people can be carriers just like unvaccinated people. So what difference does it make?\n",
      "888                                       @neontaster So what?  Nobody should be forced to take any vaccine.  Calling people anti-vaxx is just a way of vilifying them.  Besides, by now, people who want/need the vaccine have gotten it.  It doesn't matter that some people will not get the vaccine; don't worry about them.\n",
      "2276                                                                                                                                                                                                                                  @samanthamaiden @GregHuntMP BRING THE VACCINE TO THE PEOPLE NOT THE PEOPLE TO THE VACCINE!\n",
      "498                                   @vicnvid All vaccines r 2 prevent disease. Decades ago there was a polio epidemic people breathed a sigh of relief when they came out with a vaccine 2 prevent people from getting it &amp; everybody got the shot. People want this pandemic 2 go away but they don't want 2 do the work.\n",
      "1156                                  Smirko, if you want people vaccinated you need to have a vaccine plan &amp; be transparent about it. While you're passing responsibility &amp; not answering to people's concerns you're leaving the nation unprotected. Stop blaming people &amp; do your fucking job. #ScottyDoesNothing\n",
      "Name: OriginalTweet, dtype: object\n"
     ]
    }
   ],
   "source": [
    "topic_check('topic_8', 5)"
   ]
  },
  {
   "cell_type": "markdown",
   "id": "annoying-trick",
   "metadata": {},
   "source": [
    "### Visualization - scattertext"
   ]
  },
  {
   "cell_type": "markdown",
   "id": "violent-hungarian",
   "metadata": {},
   "source": [
    "### comparison between USA & Italia"
   ]
  },
  {
   "cell_type": "code",
   "execution_count": 24,
   "id": "featured-template",
   "metadata": {},
   "outputs": [],
   "source": [
    "import scattertext as st"
   ]
  },
  {
   "cell_type": "code",
   "execution_count": 25,
   "id": "separate-alias",
   "metadata": {},
   "outputs": [],
   "source": [
    "corpus = st.CorpusFromPandas(tweet_topic_matrix_df[(tweet_topic_matrix_df['Country']== 'United States') | (tweet_topic_matrix_df['Country']== 'Italia')], #dataframe\n",
    "                             category_col='Country',  #distinct category\n",
    "                             text_col='Clean_Tweet',\n",
    "                             nlp=st.whitespace_nlp_with_sentences\n",
    "                            ).build()"
   ]
  },
  {
   "cell_type": "code",
   "execution_count": 26,
   "id": "possible-definition",
   "metadata": {},
   "outputs": [],
   "source": [
    "html = st.produce_scattertext_explorer(\n",
    "        corpus,\n",
    "        category='United States',\n",
    "        category_name='United States',\n",
    "        not_category_name='Italia',\n",
    "        minimum_term_frequency=10,\n",
    "        pmi_threshold_coefficient=5,\n",
    "        width_in_pixels=1000\n",
    "        )"
   ]
  },
  {
   "cell_type": "code",
   "execution_count": 27,
   "id": "retired-special",
   "metadata": {},
   "outputs": [],
   "source": [
    "open('comparison USA vs.Italia-May_26_2021.html', 'wb').write(html.encode('utf-8'));"
   ]
  },
  {
   "cell_type": "markdown",
   "id": "english-welsh",
   "metadata": {},
   "source": [
    "### Important words comparison based on scattertext: \n",
    "* USA: 'appointments'(56 vs. 8 per 1000 tweets), 'avaliable'(55 vs. 9) ...\n",
    "* Italia: 'vaccine rollout' (0 vs. 34 per 1000 tweets)quantine'(0 vs. 25), 'federal goverment'(3 vs. 20), 'astrazeneca'(3 vs. 16) ...\n",
    "* sharing words: 'mask', 'side effects', 'vaccines'..."
   ]
  },
  {
   "cell_type": "code",
   "execution_count": null,
   "id": "explicit-contemporary",
   "metadata": {},
   "outputs": [],
   "source": []
  }
 ],
 "metadata": {
  "kernelspec": {
   "display_name": "Python [conda env:metis] *",
   "language": "python",
   "name": "conda-env-metis-py"
  },
  "language_info": {
   "codemirror_mode": {
    "name": "ipython",
    "version": 3
   },
   "file_extension": ".py",
   "mimetype": "text/x-python",
   "name": "python",
   "nbconvert_exporter": "python",
   "pygments_lexer": "ipython3",
   "version": "3.8.8"
  }
 },
 "nbformat": 4,
 "nbformat_minor": 5
}
