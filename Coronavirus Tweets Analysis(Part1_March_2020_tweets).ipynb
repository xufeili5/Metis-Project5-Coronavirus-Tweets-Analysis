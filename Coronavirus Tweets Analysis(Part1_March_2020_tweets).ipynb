{
 "cells": [
  {
   "cell_type": "markdown",
   "id": "iraqi-juvenile",
   "metadata": {},
   "source": [
    "# Step 1: EDA & Data Cleaning"
   ]
  },
  {
   "cell_type": "code",
   "execution_count": 1,
   "id": "faced-fraud",
   "metadata": {},
   "outputs": [],
   "source": [
    "import pandas as pd\n",
    "import numpy as np\n",
    "from geopy.geocoders import Nominatim\n",
    "import gmplot\n",
    "import time\n",
    "import re\n",
    "import string\n",
    "\n",
    "\n",
    "pd.set_option(\"max_colwidth\", 500)\n",
    "import warnings\n",
    "warnings.filterwarnings('ignore')\n",
    "\n",
    "\n",
    "from sklearn.feature_extraction.text import TfidfVectorizer, ENGLISH_STOP_WORDS\n",
    "from sklearn.decomposition import NMF, TruncatedSVD, LatentDirichletAllocation\n",
    "from sklearn.cluster import KMeans\n",
    "from sklearn.metrics import silhouette_score\n",
    "\n",
    "import matplotlib.pyplot as plt\n",
    "import seaborn as sns\n",
    "\n",
    "%matplotlib inline\n",
    "sns.set()"
   ]
  },
  {
   "cell_type": "code",
   "execution_count": 2,
   "id": "15b09736-7664-4bb5-bea5-2ae662843e46",
   "metadata": {},
   "outputs": [
    {
     "data": {
      "text/html": [
       "<div>\n",
       "<style scoped>\n",
       "    .dataframe tbody tr th:only-of-type {\n",
       "        vertical-align: middle;\n",
       "    }\n",
       "\n",
       "    .dataframe tbody tr th {\n",
       "        vertical-align: top;\n",
       "    }\n",
       "\n",
       "    .dataframe thead th {\n",
       "        text-align: right;\n",
       "    }\n",
       "</style>\n",
       "<table border=\"1\" class=\"dataframe\">\n",
       "  <thead>\n",
       "    <tr style=\"text-align: right;\">\n",
       "      <th></th>\n",
       "      <th>UserName</th>\n",
       "      <th>ScreenName</th>\n",
       "      <th>Location</th>\n",
       "      <th>TweetAt</th>\n",
       "      <th>OriginalTweet</th>\n",
       "      <th>Sentiment</th>\n",
       "    </tr>\n",
       "  </thead>\n",
       "  <tbody>\n",
       "    <tr>\n",
       "      <th>0</th>\n",
       "      <td>3799</td>\n",
       "      <td>48751</td>\n",
       "      <td>London</td>\n",
       "      <td>16-03-2020</td>\n",
       "      <td>@MeNyrbie @Phil_Gahan @Chrisitv https://t.co/iFz9FAn2Pa and https://t.co/xX6ghGFzCC and https://t.co/I2NlzdxNo8</td>\n",
       "      <td>Neutral</td>\n",
       "    </tr>\n",
       "    <tr>\n",
       "      <th>1</th>\n",
       "      <td>3800</td>\n",
       "      <td>48752</td>\n",
       "      <td>UK</td>\n",
       "      <td>16-03-2020</td>\n",
       "      <td>advice Talk to your neighbours family to exchange phone numbers create contact list with phone numbers of neighbours schools employer chemist GP set up online shopping accounts if poss adequate supplies of regular meds but not over order</td>\n",
       "      <td>Positive</td>\n",
       "    </tr>\n",
       "    <tr>\n",
       "      <th>2</th>\n",
       "      <td>3801</td>\n",
       "      <td>48753</td>\n",
       "      <td>Vagabonds</td>\n",
       "      <td>16-03-2020</td>\n",
       "      <td>Coronavirus Australia: Woolworths to give elderly, disabled dedicated shopping hours amid COVID-19 outbreak https://t.co/bInCA9Vp8P</td>\n",
       "      <td>Positive</td>\n",
       "    </tr>\n",
       "    <tr>\n",
       "      <th>3</th>\n",
       "      <td>3802</td>\n",
       "      <td>48754</td>\n",
       "      <td>NaN</td>\n",
       "      <td>16-03-2020</td>\n",
       "      <td>My food stock is not the only one which is empty...\\r\\r\\n\\r\\r\\nPLEASE, don't panic, THERE WILL BE ENOUGH FOOD FOR EVERYONE if you do not take more than you need. \\r\\r\\nStay calm, stay safe.\\r\\r\\n\\r\\r\\n#COVID19france #COVID_19 #COVID19 #coronavirus #confinement #Confinementotal #ConfinementGeneral https://t.co/zrlG0Z520j</td>\n",
       "      <td>Positive</td>\n",
       "    </tr>\n",
       "    <tr>\n",
       "      <th>4</th>\n",
       "      <td>3803</td>\n",
       "      <td>48755</td>\n",
       "      <td>NaN</td>\n",
       "      <td>16-03-2020</td>\n",
       "      <td>Me, ready to go at supermarket during the #COVID19 outbreak.\\r\\r\\n\\r\\r\\nNot because I'm paranoid, but because my food stock is litteraly empty. The #coronavirus is a serious thing, but please, don't panic. It causes shortage...\\r\\r\\n\\r\\r\\n#CoronavirusFrance #restezchezvous #StayAtHome #confinement https://t.co/usmuaLq72n</td>\n",
       "      <td>Extremely Negative</td>\n",
       "    </tr>\n",
       "  </tbody>\n",
       "</table>\n",
       "</div>"
      ],
      "text/plain": [
       "   UserName  ScreenName   Location     TweetAt  \\\n",
       "0      3799       48751     London  16-03-2020   \n",
       "1      3800       48752         UK  16-03-2020   \n",
       "2      3801       48753  Vagabonds  16-03-2020   \n",
       "3      3802       48754        NaN  16-03-2020   \n",
       "4      3803       48755        NaN  16-03-2020   \n",
       "\n",
       "                                                                                                                                                                                                                                                                                                                        OriginalTweet  \\\n",
       "0                                                                                                                                                                                                                     @MeNyrbie @Phil_Gahan @Chrisitv https://t.co/iFz9FAn2Pa and https://t.co/xX6ghGFzCC and https://t.co/I2NlzdxNo8   \n",
       "1                                                                                       advice Talk to your neighbours family to exchange phone numbers create contact list with phone numbers of neighbours schools employer chemist GP set up online shopping accounts if poss adequate supplies of regular meds but not over order   \n",
       "2                                                                                                                                                                                                 Coronavirus Australia: Woolworths to give elderly, disabled dedicated shopping hours amid COVID-19 outbreak https://t.co/bInCA9Vp8P   \n",
       "3   My food stock is not the only one which is empty...\\r\\r\\n\\r\\r\\nPLEASE, don't panic, THERE WILL BE ENOUGH FOOD FOR EVERYONE if you do not take more than you need. \\r\\r\\nStay calm, stay safe.\\r\\r\\n\\r\\r\\n#COVID19france #COVID_19 #COVID19 #coronavirus #confinement #Confinementotal #ConfinementGeneral https://t.co/zrlG0Z520j   \n",
       "4  Me, ready to go at supermarket during the #COVID19 outbreak.\\r\\r\\n\\r\\r\\nNot because I'm paranoid, but because my food stock is litteraly empty. The #coronavirus is a serious thing, but please, don't panic. It causes shortage...\\r\\r\\n\\r\\r\\n#CoronavirusFrance #restezchezvous #StayAtHome #confinement https://t.co/usmuaLq72n   \n",
       "\n",
       "            Sentiment  \n",
       "0             Neutral  \n",
       "1            Positive  \n",
       "2            Positive  \n",
       "3            Positive  \n",
       "4  Extremely Negative  "
      ]
     },
     "execution_count": 2,
     "metadata": {},
     "output_type": "execute_result"
    }
   ],
   "source": [
    "df = pd.read_csv(\"data/Corona_NLP_train.csv\")\n",
    "df.head()"
   ]
  },
  {
   "cell_type": "code",
   "execution_count": 3,
   "id": "intermediate-agreement",
   "metadata": {},
   "outputs": [
    {
     "name": "stdout",
     "output_type": "stream",
     "text": [
      "<class 'pandas.core.frame.DataFrame'>\n",
      "RangeIndex: 41157 entries, 0 to 41156\n",
      "Data columns (total 6 columns):\n",
      " #   Column         Non-Null Count  Dtype \n",
      "---  ------         --------------  ----- \n",
      " 0   UserName       41157 non-null  int64 \n",
      " 1   ScreenName     41157 non-null  int64 \n",
      " 2   Location       32567 non-null  object\n",
      " 3   TweetAt        41157 non-null  object\n",
      " 4   OriginalTweet  41157 non-null  object\n",
      " 5   Sentiment      41157 non-null  object\n",
      "dtypes: int64(2), object(4)\n",
      "memory usage: 1.9+ MB\n"
     ]
    }
   ],
   "source": [
    "df.info()"
   ]
  },
  {
   "cell_type": "code",
   "execution_count": 4,
   "id": "actual-gathering",
   "metadata": {},
   "outputs": [],
   "source": [
    "#data cleaning\n",
    "df['TweetAt'] = pd.to_datetime(df['TweetAt'])\n",
    "df['Month'] = df['TweetAt'].dt.month.map({1: 'Jan', 2:'Feb', 3:'Mar', 4:'Apr', 5: 'May', 6:'Jun', 7: 'Jul', 8: 'Aug', 9:'Sep', 10:'Oct', 11:'Nov', 12:'Dec'})\n",
    "df.drop_duplicates(subset = ['OriginalTweet'], inplace = True)"
   ]
  },
  {
   "cell_type": "markdown",
   "id": "express-wrist",
   "metadata": {},
   "source": [
    "### Only select English tweets"
   ]
  },
  {
   "cell_type": "code",
   "execution_count": 5,
   "id": "partial-things",
   "metadata": {},
   "outputs": [],
   "source": [
    "def isEnglish(s):\n",
    "    try:\n",
    "        s.encode(encoding='utf-8').decode('ascii')\n",
    "    except UnicodeDecodeError:\n",
    "        return False\n",
    "    else:\n",
    "        return True"
   ]
  },
  {
   "cell_type": "code",
   "execution_count": 6,
   "id": "still-paint",
   "metadata": {},
   "outputs": [
    {
     "data": {
      "text/plain": [
       "(34095, 7)"
      ]
     },
     "execution_count": 6,
     "metadata": {},
     "output_type": "execute_result"
    }
   ],
   "source": [
    "#only selects 'English' tweets\n",
    "df = df[df.OriginalTweet.apply(isEnglish)]\n",
    "df.shape"
   ]
  },
  {
   "cell_type": "code",
   "execution_count": 7,
   "id": "rough-greeting",
   "metadata": {},
   "outputs": [
    {
     "data": {
      "text/plain": [
       "Mar    21618\n",
       "Apr     2096\n",
       "Aug     1588\n",
       "Jul     1554\n",
       "Jun     1441\n",
       "Sep     1250\n",
       "May      915\n",
       "Oct      855\n",
       "Feb      813\n",
       "Nov      764\n",
       "Dec      680\n",
       "Jan      521\n",
       "Name: Month, dtype: int64"
      ]
     },
     "execution_count": 7,
     "metadata": {},
     "output_type": "execute_result"
    }
   ],
   "source": [
    "df.Month.value_counts().sort_values(ascending = False)\n",
    "#more than half of the tweets are in March"
   ]
  },
  {
   "cell_type": "code",
   "execution_count": 8,
   "id": "removable-contact",
   "metadata": {},
   "outputs": [
    {
     "data": {
      "text/plain": [
       "(21618, 7)"
      ]
     },
     "execution_count": 8,
     "metadata": {},
     "output_type": "execute_result"
    }
   ],
   "source": [
    "#only select 'Mar' 'English' tweets\n",
    "#'TweetAt' min: 01-04-2020; max:2020-12-04\n",
    "df = df[df.Month == 'Mar']\n",
    "df.shape"
   ]
  },
  {
   "cell_type": "markdown",
   "id": "experimental-jimmy",
   "metadata": {},
   "source": [
    "### Overall location distribution for our tweets"
   ]
  },
  {
   "cell_type": "code",
   "execution_count": 9,
   "id": "complete-russia",
   "metadata": {},
   "outputs": [],
   "source": [
    "# have a look at where's all the tweets from - get 500 random sample from our 5000 data points as this step is pretty slow. \n",
    "geolocator = Nominatim(user_agent = \"geoapiExercises\")\n",
    "\n",
    "# Go through all tweets and add locations to 'coordinates' dictionary\n",
    "coordinates = {'latitude': [], 'longitude': []}\n",
    "for count, user_loc in enumerate(df.sample(500).Location):\n",
    "    try:\n",
    "        location = geolocator.geocode(user_loc)\n",
    "        \n",
    "        # If coordinates are found for location\n",
    "        if location:\n",
    "            coordinates['latitude'].append(location.latitude)\n",
    "            coordinates['longitude'].append(location.longitude)\n",
    "            \n",
    "    # If too many connection requests\n",
    "    except:\n",
    "        pass\n",
    "    \n",
    "# Instantiate and center a GoogleMapPlotter object to show our map\n",
    "gmap = gmplot.GoogleMapPlotter(30, 0, 3)\n",
    "\n",
    "# Insert points on the map passing a list of latitudes and longitudes\n",
    "gmap.heatmap(coordinates['latitude'], coordinates['longitude'], radius=20)\n",
    "\n",
    "# Save the map to html file\n",
    "gmap.draw(\"visualization/Tweets Heatmap_March2020.html\")"
   ]
  },
  {
   "cell_type": "markdown",
   "id": "marked-admission",
   "metadata": {},
   "source": [
    "# Step 2: Text Preprocessing\n",
    "### Standardizing Text"
   ]
  },
  {
   "cell_type": "code",
   "execution_count": 10,
   "id": "thermal-bulgarian",
   "metadata": {},
   "outputs": [],
   "source": [
    "def standardize_text(tweet):\n",
    "    # Replace punctuations with a white space (TF-IDF will also remove)\n",
    "    clean_text = re.sub('[%s]'% re.escape(string.punctuation), '', tweet) \n",
    "    \n",
    "    clean_text = re.sub(\"http\\S+\", \"\", clean_text)\n",
    "    clean_text = re.sub(\"http\", \"\", clean_text)\n",
    "    clean_text = re.sub(\"@\\S+\", \"\", clean_text)\n",
    "    clean_text = re.sub(\"@\", \"at\", clean_text)\n",
    "    clean_text = re.sub(\"\\r\", \"\", clean_text)\n",
    "    clean_text = re.sub(\"\\n\", \"\", clean_text)\n",
    "    \n",
    "    clean_text = re.sub('\\w*\\d\\w*', ' ', clean_text)  #remove numbers\n",
    "    clean_text = clean_text.lower()  #lower all letters\n",
    "    \n",
    "    return clean_text"
   ]
  },
  {
   "cell_type": "code",
   "execution_count": 11,
   "id": "measured-pastor",
   "metadata": {},
   "outputs": [],
   "source": [
    "df['Cleaned_Tweet'] = df['OriginalTweet'].apply(standardize_text)\n",
    "df_clean = df[['Location', 'Month', 'OriginalTweet','TweetAt', 'Cleaned_Tweet']]"
   ]
  },
  {
   "cell_type": "markdown",
   "id": "hearing-baghdad",
   "metadata": {},
   "source": [
    "### TF-IDF: Tokenization"
   ]
  },
  {
   "cell_type": "code",
   "execution_count": 12,
   "id": "communist-radius",
   "metadata": {},
   "outputs": [],
   "source": [
    "corpus = df_clean['Cleaned_Tweet']"
   ]
  },
  {
   "cell_type": "code",
   "execution_count": 13,
   "id": "addressed-satin",
   "metadata": {},
   "outputs": [
    {
     "name": "stdout",
     "output_type": "stream",
     "text": [
      "(21618, 38618)\n"
     ]
    }
   ],
   "source": [
    "#set stop words\n",
    "stop_words = ENGLISH_STOP_WORDS.union(['covid', '19', 'covid19', 'coronavirus', 'covid_19'])\n",
    "vectorizer = TfidfVectorizer(stop_words=stop_words) #(stop_words = 'english')\n",
    "\n",
    "tweet_word_matrix = vectorizer.fit_transform(corpus) #document-term sparse matrix\n",
    "print(tweet_word_matrix.shape) \n",
    "\n",
    "vocab = vectorizer.get_feature_names()  #list of all the unique values/words\n",
    "# pd.DataFrame(tweet_word_matrix.toarray(), index=corpus, columns=vocab)  #don't do dataframe for larger dataset"
   ]
  },
  {
   "cell_type": "markdown",
   "id": "early-combination",
   "metadata": {},
   "source": [
    "# Step 3: NMF Topic Modeling on whole dataset"
   ]
  },
  {
   "cell_type": "markdown",
   "id": "turned-yacht",
   "metadata": {},
   "source": [
    "### Tweet-Topic Matrix(10 components)"
   ]
  },
  {
   "cell_type": "code",
   "execution_count": 14,
   "id": "stuffed-tooth",
   "metadata": {},
   "outputs": [
    {
     "data": {
      "text/html": [
       "<div>\n",
       "<style scoped>\n",
       "    .dataframe tbody tr th:only-of-type {\n",
       "        vertical-align: middle;\n",
       "    }\n",
       "\n",
       "    .dataframe tbody tr th {\n",
       "        vertical-align: top;\n",
       "    }\n",
       "\n",
       "    .dataframe thead th {\n",
       "        text-align: right;\n",
       "    }\n",
       "</style>\n",
       "<table border=\"1\" class=\"dataframe\">\n",
       "  <thead>\n",
       "    <tr style=\"text-align: right;\">\n",
       "      <th></th>\n",
       "      <th>topic_1</th>\n",
       "      <th>topic_2</th>\n",
       "      <th>topic_3</th>\n",
       "      <th>topic_4</th>\n",
       "      <th>topic_5</th>\n",
       "      <th>topic_6</th>\n",
       "      <th>topic_7</th>\n",
       "      <th>topic_8</th>\n",
       "      <th>topic_9</th>\n",
       "      <th>topic_10</th>\n",
       "      <th>Raw_Tweet</th>\n",
       "      <th>Clean_Tweet</th>\n",
       "      <th>TweetAt</th>\n",
       "    </tr>\n",
       "  </thead>\n",
       "  <tbody>\n",
       "    <tr>\n",
       "      <th>0</th>\n",
       "      <td>0.000002</td>\n",
       "      <td>0.000000</td>\n",
       "      <td>0.000000</td>\n",
       "      <td>0.000081</td>\n",
       "      <td>0.000000</td>\n",
       "      <td>0.000087</td>\n",
       "      <td>0.000000</td>\n",
       "      <td>0.0</td>\n",
       "      <td>0.000000</td>\n",
       "      <td>0.000000</td>\n",
       "      <td>@MeNyrbie @Phil_Gahan @Chrisitv https://t.co/iFz9FAn2Pa and https://t.co/xX6ghGFzCC and https://t.co/I2NlzdxNo8</td>\n",
       "      <td>menyrbie philgahan chrisitv  and  and</td>\n",
       "      <td>2020-03-16</td>\n",
       "    </tr>\n",
       "    <tr>\n",
       "      <th>1</th>\n",
       "      <td>0.002648</td>\n",
       "      <td>0.000000</td>\n",
       "      <td>0.049493</td>\n",
       "      <td>0.002147</td>\n",
       "      <td>0.000000</td>\n",
       "      <td>0.000898</td>\n",
       "      <td>0.001565</td>\n",
       "      <td>0.0</td>\n",
       "      <td>0.001369</td>\n",
       "      <td>0.003270</td>\n",
       "      <td>advice Talk to your neighbours family to exchange phone numbers create contact list with phone numbers of neighbours schools employer chemist GP set up online shopping accounts if poss adequate supplies of regular meds but not over order</td>\n",
       "      <td>advice talk to your neighbours family to exchange phone numbers create contact list with phone numbers of neighbours schools employer chemist gp set up online shopping accounts if poss adequate supplies of regular meds but not over order</td>\n",
       "      <td>2020-03-16</td>\n",
       "    </tr>\n",
       "    <tr>\n",
       "      <th>2</th>\n",
       "      <td>0.001725</td>\n",
       "      <td>0.004775</td>\n",
       "      <td>0.057554</td>\n",
       "      <td>0.010528</td>\n",
       "      <td>0.000031</td>\n",
       "      <td>0.005841</td>\n",
       "      <td>0.000000</td>\n",
       "      <td>0.0</td>\n",
       "      <td>0.007905</td>\n",
       "      <td>0.000961</td>\n",
       "      <td>Coronavirus Australia: Woolworths to give elderly, disabled dedicated shopping hours amid COVID-19 outbreak https://t.co/bInCA9Vp8P</td>\n",
       "      <td>coronavirus australia woolworths to give elderly disabled dedicated shopping hours amid   outbreak</td>\n",
       "      <td>2020-03-16</td>\n",
       "    </tr>\n",
       "    <tr>\n",
       "      <th>3</th>\n",
       "      <td>0.061358</td>\n",
       "      <td>0.000000</td>\n",
       "      <td>0.002953</td>\n",
       "      <td>0.000000</td>\n",
       "      <td>0.000000</td>\n",
       "      <td>0.000000</td>\n",
       "      <td>0.007972</td>\n",
       "      <td>0.0</td>\n",
       "      <td>0.000000</td>\n",
       "      <td>0.003832</td>\n",
       "      <td>My food stock is not the only one which is empty...\\r\\r\\n\\r\\r\\nPLEASE, don't panic, THERE WILL BE ENOUGH FOOD FOR EVERYONE if you do not take more than you need. \\r\\r\\nStay calm, stay safe.\\r\\r\\n\\r\\r\\n#COVID19france #COVID_19 #COVID19 #coronavirus #confinement #Confinementotal #ConfinementGeneral https://t.co/zrlG0Z520j</td>\n",
       "      <td>my food stock is not the only one which is emptyplease dont panic there will be enough food for everyone if you do not take more than you need stay calm stay       coronavirus confinement confinementotal confinementgeneral</td>\n",
       "      <td>2020-03-16</td>\n",
       "    </tr>\n",
       "    <tr>\n",
       "      <th>4</th>\n",
       "      <td>0.032083</td>\n",
       "      <td>0.000000</td>\n",
       "      <td>0.000000</td>\n",
       "      <td>0.000000</td>\n",
       "      <td>0.000000</td>\n",
       "      <td>0.028705</td>\n",
       "      <td>0.000204</td>\n",
       "      <td>0.0</td>\n",
       "      <td>0.000000</td>\n",
       "      <td>0.000000</td>\n",
       "      <td>Me, ready to go at supermarket during the #COVID19 outbreak.\\r\\r\\n\\r\\r\\nNot because I'm paranoid, but because my food stock is litteraly empty. The #coronavirus is a serious thing, but please, don't panic. It causes shortage...\\r\\r\\n\\r\\r\\n#CoronavirusFrance #restezchezvous #StayAtHome #confinement https://t.co/usmuaLq72n</td>\n",
       "      <td>me ready to go at supermarket during the   outbreaknot because im paranoid but because my food stock is litteraly empty the coronavirus is a serious thing but please dont panic it causes shortagecoronavirusfrance restezchezvous stayathome confinement</td>\n",
       "      <td>2020-03-16</td>\n",
       "    </tr>\n",
       "  </tbody>\n",
       "</table>\n",
       "</div>"
      ],
      "text/plain": [
       "    topic_1   topic_2   topic_3   topic_4   topic_5   topic_6   topic_7  \\\n",
       "0  0.000002  0.000000  0.000000  0.000081  0.000000  0.000087  0.000000   \n",
       "1  0.002648  0.000000  0.049493  0.002147  0.000000  0.000898  0.001565   \n",
       "2  0.001725  0.004775  0.057554  0.010528  0.000031  0.005841  0.000000   \n",
       "3  0.061358  0.000000  0.002953  0.000000  0.000000  0.000000  0.007972   \n",
       "4  0.032083  0.000000  0.000000  0.000000  0.000000  0.028705  0.000204   \n",
       "\n",
       "   topic_8   topic_9  topic_10  \\\n",
       "0      0.0  0.000000  0.000000   \n",
       "1      0.0  0.001369  0.003270   \n",
       "2      0.0  0.007905  0.000961   \n",
       "3      0.0  0.000000  0.003832   \n",
       "4      0.0  0.000000  0.000000   \n",
       "\n",
       "                                                                                                                                                                                                                                                                                                                            Raw_Tweet  \\\n",
       "0                                                                                                                                                                                                                     @MeNyrbie @Phil_Gahan @Chrisitv https://t.co/iFz9FAn2Pa and https://t.co/xX6ghGFzCC and https://t.co/I2NlzdxNo8   \n",
       "1                                                                                       advice Talk to your neighbours family to exchange phone numbers create contact list with phone numbers of neighbours schools employer chemist GP set up online shopping accounts if poss adequate supplies of regular meds but not over order   \n",
       "2                                                                                                                                                                                                 Coronavirus Australia: Woolworths to give elderly, disabled dedicated shopping hours amid COVID-19 outbreak https://t.co/bInCA9Vp8P   \n",
       "3   My food stock is not the only one which is empty...\\r\\r\\n\\r\\r\\nPLEASE, don't panic, THERE WILL BE ENOUGH FOOD FOR EVERYONE if you do not take more than you need. \\r\\r\\nStay calm, stay safe.\\r\\r\\n\\r\\r\\n#COVID19france #COVID_19 #COVID19 #coronavirus #confinement #Confinementotal #ConfinementGeneral https://t.co/zrlG0Z520j   \n",
       "4  Me, ready to go at supermarket during the #COVID19 outbreak.\\r\\r\\n\\r\\r\\nNot because I'm paranoid, but because my food stock is litteraly empty. The #coronavirus is a serious thing, but please, don't panic. It causes shortage...\\r\\r\\n\\r\\r\\n#CoronavirusFrance #restezchezvous #StayAtHome #confinement https://t.co/usmuaLq72n   \n",
       "\n",
       "                                                                                                                                                                                                                                                   Clean_Tweet  \\\n",
       "0                                                                                                                                                                                                                       menyrbie philgahan chrisitv  and  and    \n",
       "1                advice talk to your neighbours family to exchange phone numbers create contact list with phone numbers of neighbours schools employer chemist gp set up online shopping accounts if poss adequate supplies of regular meds but not over order   \n",
       "2                                                                                                                                                          coronavirus australia woolworths to give elderly disabled dedicated shopping hours amid   outbreak    \n",
       "3                              my food stock is not the only one which is emptyplease dont panic there will be enough food for everyone if you do not take more than you need stay calm stay       coronavirus confinement confinementotal confinementgeneral    \n",
       "4  me ready to go at supermarket during the   outbreaknot because im paranoid but because my food stock is litteraly empty the coronavirus is a serious thing but please dont panic it causes shortagecoronavirusfrance restezchezvous stayathome confinement    \n",
       "\n",
       "     TweetAt  \n",
       "0 2020-03-16  \n",
       "1 2020-03-16  \n",
       "2 2020-03-16  \n",
       "3 2020-03-16  \n",
       "4 2020-03-16  "
      ]
     },
     "execution_count": 14,
     "metadata": {},
     "output_type": "execute_result"
    }
   ],
   "source": [
    "nmf_10 = NMF(n_components=10)  #top 10 topic\n",
    "tweet_topic_matrix = nmf_10.fit_transform(tweet_word_matrix) \n",
    "\n",
    "tweet_topic_matrix_df = pd.DataFrame(tweet_topic_matrix, columns = [\"topic_1\",\"topic_2\", \"topic_3\",\"topic_4\", \n",
    "                      \"topic_5\",\"topic_6\",\"topic_7\",\"topic_8\",\"topic_9\", \"topic_10\"])\n",
    "\n",
    "tweet_topic_matrix_df[['Raw_Tweet', 'Clean_Tweet', 'TweetAt']] = df_clean.reset_index()[['OriginalTweet', 'Cleaned_Tweet','TweetAt']]\n",
    "tweet_topic_matrix_df.head()"
   ]
  },
  {
   "cell_type": "markdown",
   "id": "pediatric-jesus",
   "metadata": {},
   "source": [
    "### Have a look at top 6 words for 10 topics to understand the topics"
   ]
  },
  {
   "cell_type": "code",
   "execution_count": 15,
   "id": "familiar-assignment",
   "metadata": {},
   "outputs": [],
   "source": [
    "def get_top_topic_words(nmf):\n",
    "    topic_words = [] # list of lists, one for each topic\n",
    "\n",
    "    ### find the top 6 word weights for each topic component,\n",
    "    ### using terms to create a corresponding list of the top 8 words. \n",
    "    ### Add each list to topic_words \n",
    "    for topic in nmf.components_:  # for each components\n",
    "        top_terms = topic.argsort()[-6:]  #argsort: only asending order. top 8 words index for later to locate #a array\n",
    "        topic_words.append([vocab[top_term] for top_term in top_terms])  #use position to get word out from terms\n",
    "                                                                         #list of list\n",
    "\n",
    "    return topic_words"
   ]
  },
  {
   "cell_type": "code",
   "execution_count": 16,
   "id": "unusual-investing",
   "metadata": {},
   "outputs": [
    {
     "data": {
      "text/plain": [
       "[['people', 'stock', 'need', 'buying', 'panic', 'food'],\n",
       " ['people', 'going', 'stores', 'retail', 'grocery', 'store'],\n",
       " ['stay', 'amazon', 'delivery', 'home', 'online', 'shopping'],\n",
       " ['amid', 'low', 'price', 'gas', 'oil', 'prices'],\n",
       " ['toiletpaperpanic', 'rolls', 'roll', 'toiletpaper', 'paper', 'toilet'],\n",
       " ['just', 'like', 'local', 'shelves', 'people', 'supermarket'],\n",
       " ['use', 'masks', 'hands', 'make', 'hand', 'sanitizer'],\n",
       " ['delivery', 'employees', 'staff', 'drivers', 'thank', 'workers'],\n",
       " ['scams', 'business', 'behavior', 'impact', 'pandemic', 'consumer'],\n",
       " ['support', 'social', 'stay', 'help', 'home', 'amp']]"
      ]
     },
     "execution_count": 16,
     "metadata": {},
     "output_type": "execute_result"
    }
   ],
   "source": [
    "get_top_topic_words(nmf_10)"
   ]
  },
  {
   "cell_type": "markdown",
   "id": "streaming-theta",
   "metadata": {},
   "source": [
    "**Conclusion:**\n",
    "* Topic1: Panic buying & stocking food\n",
    "* Topic2: Grocery & retail\n",
    "* Topic3: Online shopping & delivery\n",
    "* Topic4: Gas price decline\n",
    "* Topic5: Toilet paper hoarding \n",
    "* Topic6: Supermarket shelves are empty - Food shortage \n",
    "* Topic7: Mask & Hand sanitizer shortage\n",
    "* Topic8: Thanks ALL front-line workers\n",
    "* Topic9: Covid impact on business & economy\n",
    "* Topic10: StayAtHome"
   ]
  },
  {
   "cell_type": "markdown",
   "id": "determined-jerusalem",
   "metadata": {},
   "source": [
    "### Word-Topic Matrix(10 components)"
   ]
  },
  {
   "cell_type": "code",
   "execution_count": 17,
   "id": "occasional-heath",
   "metadata": {},
   "outputs": [],
   "source": [
    "words_topic_df = pd.DataFrame(nmf_10.components_.round(5),\n",
    "             index = [\"topic_1\",\"topic_2\", \"topic_3\",\"topic_4\", \n",
    "                      \"topic_5\",\"topic_6\",\"topic_7\",\"topic_8\", \"topic_9\", \"topic_10\"],\n",
    "             columns = vectorizer.get_feature_names()).T "
   ]
  },
  {
   "cell_type": "markdown",
   "id": "numerical-arkansas",
   "metadata": {},
   "source": [
    "### Topic Interpretation(10 components)"
   ]
  },
  {
   "cell_type": "code",
   "execution_count": 18,
   "id": "horizontal-region",
   "metadata": {},
   "outputs": [],
   "source": [
    "def topic_check(topic_name, n = 6):\n",
    "    print(words_topic_df.sort_values(by=topic_name, ascending=False)[topic_name].head(6))  #topic: \"panic buying & stocking food\"\n",
    "    print('\\n')\n",
    "    print(tweet_topic_matrix_df.sort_values(by=topic_name, ascending=False)['Raw_Tweet'].head(n))"
   ]
  },
  {
   "cell_type": "code",
   "execution_count": 19,
   "id": "blocked-directive",
   "metadata": {},
   "outputs": [
    {
     "name": "stdout",
     "output_type": "stream",
     "text": [
      "food      3.10440\n",
      "panic     2.22928\n",
      "buying    1.64429\n",
      "need      0.84418\n",
      "stock     0.79783\n",
      "people    0.72580\n",
      "Name: topic_1, dtype: float64\n",
      "\n",
      "\n",
      "9651                                                                                                                    #Covid_19 stop panic buying theres enough food etc for everyone https://t.co/FfABnl3Upo\n",
      "9283                                                                                               all this #coronavirus we need to stop panic buying so the old and the people that are still working get food\n",
      "15452                                                                                                                        Minister The country has enough food supplies there is no need for panic buying 19\n",
      "1881     #Coronavirus seriously can people stop buying free from food cause they have already hoarded the other food. People need the free from food due to medical issue. Please stop panic buy there is need.\n",
      "5816                                                                                       For all of you panic buying. STOP DOING IT Vulnerable people can't get any food please think of others. #coronavirus\n",
      "2448                                                                                                                                                  STOP FUCKING PANIC BUYING FOOD, YOU IDIOTS!! #coronavirus\n",
      "Name: Raw_Tweet, dtype: object\n"
     ]
    }
   ],
   "source": [
    "topic_check('topic_1')  #topic: \"panic buying & stocking food\""
   ]
  },
  {
   "cell_type": "code",
   "execution_count": 20,
   "id": "incredible-found",
   "metadata": {},
   "outputs": [
    {
     "name": "stdout",
     "output_type": "stream",
     "text": [
      "prices    2.18250\n",
      "oil       0.86757\n",
      "gas       0.55974\n",
      "price     0.34268\n",
      "low       0.31083\n",
      "amid      0.25001\n",
      "Name: topic_4, dtype: float64\n",
      "\n",
      "\n",
      "3352                                                   Oil prices at $23.18\\r\\r\\n#Oilprices #coronavirus\n",
      "3353                                Oil prices at $22.90\\r\\r\\n#Oilprices #coronavirus #CoronaVirusUpdate\n",
      "4021                         Oil prices at 2002 already, are we back almost 20 years due to #coronavirus\n",
      "19424                                                                    I do like Covid 19 gas prices  \n",
      "6280     Toilet paper prices went up while gas prices going down. #covid_19\\r\\r\\nhttps://t.co/jp5aYlra9R\n",
      "3954                       Gas prices keep going down because of COVID-19. \\r\\r\\nhttps://t.co/GCX7Mz3M21\n",
      "Name: Raw_Tweet, dtype: object\n"
     ]
    }
   ],
   "source": [
    "topic_check('topic_4') #gas price decline"
   ]
  },
  {
   "cell_type": "markdown",
   "id": "selected-attack",
   "metadata": {},
   "source": [
    "# STEP 4: Geolocating for 5000 random sample data (take sample as this step is extremely slow)"
   ]
  },
  {
   "cell_type": "code",
   "execution_count": 21,
   "id": "bright-infrastructure",
   "metadata": {},
   "outputs": [
    {
     "name": "stdout",
     "output_type": "stream",
     "text": [
      "<class 'pandas.core.frame.DataFrame'>\n",
      "Int64Index: 5000 entries, 21541 to 24828\n",
      "Data columns (total 5 columns):\n",
      " #   Column         Non-Null Count  Dtype         \n",
      "---  ------         --------------  -----         \n",
      " 0   Location       3975 non-null   object        \n",
      " 1   Month          5000 non-null   object        \n",
      " 2   OriginalTweet  5000 non-null   object        \n",
      " 3   TweetAt        5000 non-null   datetime64[ns]\n",
      " 4   Cleaned_Tweet  5000 non-null   object        \n",
      "dtypes: datetime64[ns](1), object(4)\n",
      "memory usage: 234.4+ KB\n"
     ]
    }
   ],
   "source": [
    "df_sample = df_clean.sample(5000, random_state = 101)[['Location', 'Month', 'OriginalTweet','TweetAt', 'Cleaned_Tweet']]\n",
    "df_sample.info()"
   ]
  },
  {
   "cell_type": "code",
   "execution_count": 22,
   "id": "0cfa93f0-c199-4178-8499-53776cebd4e2",
   "metadata": {},
   "outputs": [
    {
     "data": {
      "text/html": [
       "<div>\n",
       "<style scoped>\n",
       "    .dataframe tbody tr th:only-of-type {\n",
       "        vertical-align: middle;\n",
       "    }\n",
       "\n",
       "    .dataframe tbody tr th {\n",
       "        vertical-align: top;\n",
       "    }\n",
       "\n",
       "    .dataframe thead th {\n",
       "        text-align: right;\n",
       "    }\n",
       "</style>\n",
       "<table border=\"1\" class=\"dataframe\">\n",
       "  <thead>\n",
       "    <tr style=\"text-align: right;\">\n",
       "      <th></th>\n",
       "      <th>Location</th>\n",
       "      <th>Month</th>\n",
       "      <th>OriginalTweet</th>\n",
       "      <th>TweetAt</th>\n",
       "      <th>Cleaned_Tweet</th>\n",
       "    </tr>\n",
       "  </thead>\n",
       "  <tbody>\n",
       "    <tr>\n",
       "      <th>21541</th>\n",
       "      <td>NaN</td>\n",
       "      <td>Mar</td>\n",
       "      <td>Supermarket #purchaselimits mean people have to shop more often to get basics like milk, each time with possible exposure to the #coronavirus \\r\\r\\nSupermarkets your well-meaning restrictions will end up killing people.\\r\\r\\n\\r\\r\\n#StayHome #StayHomeStaySafe</td>\n",
       "      <td>2020-03-25</td>\n",
       "      <td>supermarket purchaselimits mean people have to shop more often to get basics like milk each time with possible exposure to the coronavirus supermarkets your wellmeaning restrictions will end up killing peoplestayhome stayhomestaysafe</td>\n",
       "    </tr>\n",
       "    <tr>\n",
       "      <th>14111</th>\n",
       "      <td>New Brunswick, Canada</td>\n",
       "      <td>Mar</td>\n",
       "      <td>People want to hope #coronavirus comes with a 6 month case of diarrhea, else they are going to need to build an addition to store all their toiletpaper.  Shelves empty at SuperStore again today.</td>\n",
       "      <td>2020-03-21</td>\n",
       "      <td>people want to hope coronavirus comes with a   month case of diarrhea else they are going to need to build an addition to store all their toiletpaper  shelves empty at superstore again today</td>\n",
       "    </tr>\n",
       "    <tr>\n",
       "      <th>17114</th>\n",
       "      <td>Chapel Hill, NC, USA</td>\n",
       "      <td>Mar</td>\n",
       "      <td>MEDIA ADVISORY A panel convened by amp the Kenan Institute will be offering a press briefing on the dramatic short and long term impact of the 19 financial downturn on personal amp consumer finance Join Tues March 24 at 11 a m</td>\n",
       "      <td>2020-03-23</td>\n",
       "      <td>media advisory a panel convened by amp the kenan institute will be offering a press briefing on the dramatic short and long term impact of the   financial downturn on personal amp consumer finance join tues march   at   a m</td>\n",
       "    </tr>\n",
       "    <tr>\n",
       "      <th>23595</th>\n",
       "      <td>Virginia</td>\n",
       "      <td>Mar</td>\n",
       "      <td>New Jersey Man Charged with Terroristic Threats for Deliberately Coughing on Grocery Store Worker And Stating He Had Covid 19 Faces a 7 year prison sentence via</td>\n",
       "      <td>2020-03-26</td>\n",
       "      <td>new jersey man charged with terroristic threats for deliberately coughing on grocery store worker and stating he had covid   faces a   year prison sentence via</td>\n",
       "    </tr>\n",
       "    <tr>\n",
       "      <th>2167</th>\n",
       "      <td>NaN</td>\n",
       "      <td>Mar</td>\n",
       "      <td>A COVID-19 Cure for Restaurants: Reaching Older Diners : https://t.co/kZaVPbZ53w #foodservices</td>\n",
       "      <td>2020-03-17</td>\n",
       "      <td>a   cure for restaurants reaching older diners   foodservices</td>\n",
       "    </tr>\n",
       "  </tbody>\n",
       "</table>\n",
       "</div>"
      ],
      "text/plain": [
       "                    Location Month  \\\n",
       "21541                    NaN   Mar   \n",
       "14111  New Brunswick, Canada   Mar   \n",
       "17114   Chapel Hill, NC, USA   Mar   \n",
       "23595               Virginia   Mar   \n",
       "2167                     NaN   Mar   \n",
       "\n",
       "                                                                                                                                                                                                                                                            OriginalTweet  \\\n",
       "21541  Supermarket #purchaselimits mean people have to shop more often to get basics like milk, each time with possible exposure to the #coronavirus \\r\\r\\nSupermarkets your well-meaning restrictions will end up killing people.\\r\\r\\n\\r\\r\\n#StayHome #StayHomeStaySafe   \n",
       "14111                                                                  People want to hope #coronavirus comes with a 6 month case of diarrhea, else they are going to need to build an addition to store all their toiletpaper.  Shelves empty at SuperStore again today.   \n",
       "17114                                  MEDIA ADVISORY A panel convened by amp the Kenan Institute will be offering a press briefing on the dramatic short and long term impact of the 19 financial downturn on personal amp consumer finance Join Tues March 24 at 11 a m   \n",
       "23595                                                                                                    New Jersey Man Charged with Terroristic Threats for Deliberately Coughing on Grocery Store Worker And Stating He Had Covid 19 Faces a 7 year prison sentence via   \n",
       "2167                                                                                                                                                                       A COVID-19 Cure for Restaurants: Reaching Older Diners : https://t.co/kZaVPbZ53w #foodservices   \n",
       "\n",
       "         TweetAt  \\\n",
       "21541 2020-03-25   \n",
       "14111 2020-03-21   \n",
       "17114 2020-03-23   \n",
       "23595 2020-03-26   \n",
       "2167  2020-03-17   \n",
       "\n",
       "                                                                                                                                                                                                                                   Cleaned_Tweet  \n",
       "21541  supermarket purchaselimits mean people have to shop more often to get basics like milk each time with possible exposure to the coronavirus supermarkets your wellmeaning restrictions will end up killing peoplestayhome stayhomestaysafe  \n",
       "14111                                             people want to hope coronavirus comes with a   month case of diarrhea else they are going to need to build an addition to store all their toiletpaper  shelves empty at superstore again today  \n",
       "17114            media advisory a panel convened by amp the kenan institute will be offering a press briefing on the dramatic short and long term impact of the   financial downturn on personal amp consumer finance join tues march   at   a m  \n",
       "23595                                                                            new jersey man charged with terroristic threats for deliberately coughing on grocery store worker and stating he had covid   faces a   year prison sentence via  \n",
       "2167                                                                                                                                                                               a   cure for restaurants reaching older diners   foodservices  "
      ]
     },
     "execution_count": 22,
     "metadata": {},
     "output_type": "execute_result"
    }
   ],
   "source": [
    "df_sample.head()"
   ]
  },
  {
   "cell_type": "markdown",
   "id": "hawaiian-recommendation",
   "metadata": {},
   "source": [
    "### (1)Extract Country information from messy Location column."
   ]
  },
  {
   "cell_type": "code",
   "execution_count": 23,
   "id": "invisible-forwarding",
   "metadata": {},
   "outputs": [],
   "source": [
    "def country_convert(loc):\n",
    "    try:\n",
    "        geolocator = Nominatim(user_agent = \"geoapiExercises\")\n",
    "        location = geolocator.geocode(loc)\n",
    "        return location.address.split(',')[-1].lstrip()\n",
    "    except AttributeError:\n",
    "        # print(\"Unrecognizable: \", loc)\n",
    "        # time.sleep(5)\n",
    "        return 'N/A'    \n",
    "    except:\n",
    "        pass"
   ]
  },
  {
   "cell_type": "code",
   "execution_count": 24,
   "id": "adjustable-specific",
   "metadata": {},
   "outputs": [],
   "source": [
    "df_sample['Country'] = df_sample['Location'].apply(country_convert)"
   ]
  },
  {
   "cell_type": "code",
   "execution_count": 25,
   "id": "theoretical-mouse",
   "metadata": {},
   "outputs": [],
   "source": [
    "#check point to avoid lossing the 'Country' we just get via Geolocator\n",
    "df_sample.to_csv('data/March_English_Clean.csv')"
   ]
  },
  {
   "cell_type": "code",
   "execution_count": 26,
   "id": "going-uruguay",
   "metadata": {},
   "outputs": [
    {
     "data": {
      "text/html": [
       "<div>\n",
       "<style scoped>\n",
       "    .dataframe tbody tr th:only-of-type {\n",
       "        vertical-align: middle;\n",
       "    }\n",
       "\n",
       "    .dataframe tbody tr th {\n",
       "        vertical-align: top;\n",
       "    }\n",
       "\n",
       "    .dataframe thead th {\n",
       "        text-align: right;\n",
       "    }\n",
       "</style>\n",
       "<table border=\"1\" class=\"dataframe\">\n",
       "  <thead>\n",
       "    <tr style=\"text-align: right;\">\n",
       "      <th></th>\n",
       "      <th>Location</th>\n",
       "      <th>Month</th>\n",
       "      <th>OriginalTweet</th>\n",
       "      <th>Country</th>\n",
       "      <th>Cleaned_Tweet</th>\n",
       "      <th>TweetAt</th>\n",
       "    </tr>\n",
       "  </thead>\n",
       "  <tbody>\n",
       "    <tr>\n",
       "      <th>21541</th>\n",
       "      <td>NaN</td>\n",
       "      <td>Mar</td>\n",
       "      <td>Supermarket #purchaselimits mean people have to shop more often to get basics like milk, each time with possible exposure to the #coronavirus \\r\\r\\nSupermarkets your well-meaning restrictions will end up killing people.\\r\\r\\n\\r\\r\\n#StayHome #StayHomeStaySafe</td>\n",
       "      <td>Italia</td>\n",
       "      <td>supermarket purchaselimits mean people have to shop more often to get basics like milk each time with possible exposure to the coronavirus supermarkets your wellmeaning restrictions will end up killing peoplestayhome stayhomestaysafe</td>\n",
       "      <td>2020-03-25</td>\n",
       "    </tr>\n",
       "    <tr>\n",
       "      <th>14111</th>\n",
       "      <td>New Brunswick, Canada</td>\n",
       "      <td>Mar</td>\n",
       "      <td>People want to hope #coronavirus comes with a 6 month case of diarrhea, else they are going to need to build an addition to store all their toiletpaper.  Shelves empty at SuperStore again today.</td>\n",
       "      <td>Canada</td>\n",
       "      <td>people want to hope coronavirus comes with a   month case of diarrhea else they are going to need to build an addition to store all their toiletpaper  shelves empty at superstore again today</td>\n",
       "      <td>2020-03-21</td>\n",
       "    </tr>\n",
       "    <tr>\n",
       "      <th>17114</th>\n",
       "      <td>Chapel Hill, NC, USA</td>\n",
       "      <td>Mar</td>\n",
       "      <td>MEDIA ADVISORY A panel convened by amp the Kenan Institute will be offering a press briefing on the dramatic short and long term impact of the 19 financial downturn on personal amp consumer finance Join Tues March 24 at 11 a m</td>\n",
       "      <td>United States</td>\n",
       "      <td>media advisory a panel convened by amp the kenan institute will be offering a press briefing on the dramatic short and long term impact of the   financial downturn on personal amp consumer finance join tues march   at   a m</td>\n",
       "      <td>2020-03-23</td>\n",
       "    </tr>\n",
       "    <tr>\n",
       "      <th>23595</th>\n",
       "      <td>Virginia</td>\n",
       "      <td>Mar</td>\n",
       "      <td>New Jersey Man Charged with Terroristic Threats for Deliberately Coughing on Grocery Store Worker And Stating He Had Covid 19 Faces a 7 year prison sentence via</td>\n",
       "      <td>United States</td>\n",
       "      <td>new jersey man charged with terroristic threats for deliberately coughing on grocery store worker and stating he had covid   faces a   year prison sentence via</td>\n",
       "      <td>2020-03-26</td>\n",
       "    </tr>\n",
       "    <tr>\n",
       "      <th>2167</th>\n",
       "      <td>NaN</td>\n",
       "      <td>Mar</td>\n",
       "      <td>A COVID-19 Cure for Restaurants: Reaching Older Diners : https://t.co/kZaVPbZ53w #foodservices</td>\n",
       "      <td>Italia</td>\n",
       "      <td>a   cure for restaurants reaching older diners   foodservices</td>\n",
       "      <td>2020-03-17</td>\n",
       "    </tr>\n",
       "  </tbody>\n",
       "</table>\n",
       "</div>"
      ],
      "text/plain": [
       "                    Location Month  \\\n",
       "21541                    NaN   Mar   \n",
       "14111  New Brunswick, Canada   Mar   \n",
       "17114   Chapel Hill, NC, USA   Mar   \n",
       "23595               Virginia   Mar   \n",
       "2167                     NaN   Mar   \n",
       "\n",
       "                                                                                                                                                                                                                                                            OriginalTweet  \\\n",
       "21541  Supermarket #purchaselimits mean people have to shop more often to get basics like milk, each time with possible exposure to the #coronavirus \\r\\r\\nSupermarkets your well-meaning restrictions will end up killing people.\\r\\r\\n\\r\\r\\n#StayHome #StayHomeStaySafe   \n",
       "14111                                                                  People want to hope #coronavirus comes with a 6 month case of diarrhea, else they are going to need to build an addition to store all their toiletpaper.  Shelves empty at SuperStore again today.   \n",
       "17114                                  MEDIA ADVISORY A panel convened by amp the Kenan Institute will be offering a press briefing on the dramatic short and long term impact of the 19 financial downturn on personal amp consumer finance Join Tues March 24 at 11 a m   \n",
       "23595                                                                                                    New Jersey Man Charged with Terroristic Threats for Deliberately Coughing on Grocery Store Worker And Stating He Had Covid 19 Faces a 7 year prison sentence via   \n",
       "2167                                                                                                                                                                       A COVID-19 Cure for Restaurants: Reaching Older Diners : https://t.co/kZaVPbZ53w #foodservices   \n",
       "\n",
       "             Country  \\\n",
       "21541         Italia   \n",
       "14111         Canada   \n",
       "17114  United States   \n",
       "23595  United States   \n",
       "2167          Italia   \n",
       "\n",
       "                                                                                                                                                                                                                                   Cleaned_Tweet  \\\n",
       "21541  supermarket purchaselimits mean people have to shop more often to get basics like milk each time with possible exposure to the coronavirus supermarkets your wellmeaning restrictions will end up killing peoplestayhome stayhomestaysafe   \n",
       "14111                                             people want to hope coronavirus comes with a   month case of diarrhea else they are going to need to build an addition to store all their toiletpaper  shelves empty at superstore again today   \n",
       "17114            media advisory a panel convened by amp the kenan institute will be offering a press briefing on the dramatic short and long term impact of the   financial downturn on personal amp consumer finance join tues march   at   a m   \n",
       "23595                                                                            new jersey man charged with terroristic threats for deliberately coughing on grocery store worker and stating he had covid   faces a   year prison sentence via   \n",
       "2167                                                                                                                                                                               a   cure for restaurants reaching older diners   foodservices   \n",
       "\n",
       "          TweetAt  \n",
       "21541  2020-03-25  \n",
       "14111  2020-03-21  \n",
       "17114  2020-03-23  \n",
       "23595  2020-03-26  \n",
       "2167   2020-03-17  "
      ]
     },
     "execution_count": 26,
     "metadata": {},
     "output_type": "execute_result"
    }
   ],
   "source": [
    "df_sample_clean = pd.read_csv('data/March_English_Clean.csv', index_col = 0)\n",
    "df_sample_clean.head()"
   ]
  },
  {
   "cell_type": "code",
   "execution_count": 27,
   "id": "indirect-fantasy",
   "metadata": {},
   "outputs": [
    {
     "data": {
      "text/plain": [
       "United States     1494\n",
       "Italia            1043\n",
       "United Kingdom     720\n",
       "Canada             239\n",
       "India              191\n",
       "                  ... \n",
       "ليبيا                1\n",
       "Қазақстан            1\n",
       "Eesti                1\n",
       "Isle of Man          1\n",
       "Tchad تشاد           1\n",
       "Name: Country, Length: 107, dtype: int64"
      ]
     },
     "execution_count": 27,
     "metadata": {},
     "output_type": "execute_result"
    }
   ],
   "source": [
    "df_sample_clean.Country.value_counts().sort_values(ascending=False) \n",
    "#top three United States, Italia, United Kingdom"
   ]
  },
  {
   "cell_type": "code",
   "execution_count": 28,
   "id": "cross-skating",
   "metadata": {},
   "outputs": [
    {
     "name": "stdout",
     "output_type": "stream",
     "text": [
      "(5000, 15422)\n",
      "(5000, 14)\n"
     ]
    },
    {
     "data": {
      "text/plain": [
       "[['stop', 'need', 'stock', 'buying', 'panic', 'food'],\n",
       " ['going', 'stores', 'retail', 'employees', 'grocery', 'store'],\n",
       " ['stay', 'amazon', 'home', 'delivery', 'shopping', 'online'],\n",
       " ['don', 'pandemic', 'roll', 'toiletpaper', 'paper', 'toilet'],\n",
       " ['amid', 'low', 'price', 'gas', 'oil', 'prices'],\n",
       " ['just', 'like', 'staff', 'local', 'shelves', 'supermarket'],\n",
       " ['use', 'hands', 'soap', 'make', 'hand', 'sanitizer'],\n",
       " ['staff', 'delivery', 'drivers', 'thank', 'workers', 'amp'],\n",
       " ['economy', 'behavior', 'business', 'impact', 'pandemic', 'consumer'],\n",
       " ['time', 'stop', 'stay', 'safe', 'need', 'people']]"
      ]
     },
     "execution_count": 28,
     "metadata": {},
     "output_type": "execute_result"
    }
   ],
   "source": [
    "# sample result should be the same with above entire data result.\n",
    "corpus = df_sample_clean['Cleaned_Tweet']\n",
    "\n",
    "#set stop words\n",
    "stop_words = ENGLISH_STOP_WORDS.union(['covid', '19', 'covid19', 'coronavirus', 'covid_19'])\n",
    "vectorizer = TfidfVectorizer(stop_words=stop_words) #(or stop_words = 'english' by default)\n",
    "\n",
    "tweet_word_matrix = vectorizer.fit_transform(corpus) #document-term sparse matrix\n",
    "print(tweet_word_matrix.shape) #15422 unique words\n",
    "vocab = vectorizer.get_feature_names()  #list of all the unique values/words\n",
    "# pd.DataFrame(tweet_word_matrix.toarray(), index=corpus, columns=vocab)  #no dataframe for larger dataset\n",
    "\n",
    "nmf_10 = NMF(n_components=10)  #top 10 topic\n",
    "tweet_topic_matrix = nmf_10.fit_transform(tweet_word_matrix) \n",
    "tweet_topic_matrix_df = pd.DataFrame(tweet_topic_matrix, columns = [\"topic_1\",\"topic_2\", \"topic_3\",\"topic_4\", \n",
    "                      \"topic_5\",\"topic_6\",\"topic_7\",\"topic_8\", \"topic_9\", \"topic_10\"])\n",
    "tweet_topic_matrix_df[['Raw_Tweet', 'Clean_Tweet', 'TweetAt','Country']] = df_sample_clean.reset_index()[['OriginalTweet', 'Cleaned_Tweet','TweetAt','Country']]\n",
    "print(tweet_topic_matrix_df.shape)\n",
    "get_top_topic_words(nmf_10)\n",
    "#It is sample result with our entire data result"
   ]
  },
  {
   "cell_type": "markdown",
   "id": "located-michael",
   "metadata": {},
   "source": [
    "### (2) Visualization \n",
    "### scattertext : comparison between USA & Italia"
   ]
  },
  {
   "cell_type": "code",
   "execution_count": 29,
   "id": "artificial-syndication",
   "metadata": {},
   "outputs": [],
   "source": [
    "import scattertext as st"
   ]
  },
  {
   "cell_type": "code",
   "execution_count": 30,
   "id": "solar-content",
   "metadata": {},
   "outputs": [],
   "source": [
    "corpus = st.CorpusFromPandas(tweet_topic_matrix_df[(tweet_topic_matrix_df['Country']== 'United States') | (tweet_topic_matrix_df['Country']== 'Italia')], #dataframe\n",
    "                             category_col='Country',  #distinct category\n",
    "                             text_col='Clean_Tweet',\n",
    "                             nlp=st.whitespace_nlp_with_sentences\n",
    "                            ).build()"
   ]
  },
  {
   "cell_type": "code",
   "execution_count": 31,
   "id": "incoming-evolution",
   "metadata": {},
   "outputs": [],
   "source": [
    "html = st.produce_scattertext_explorer(\n",
    "        corpus,\n",
    "        category='United States',\n",
    "        category_name='United States',\n",
    "        not_category_name='Italia',\n",
    "        minimum_term_frequency=10,\n",
    "        pmi_threshold_coefficient=5,\n",
    "        width_in_pixels=1000\n",
    "        )"
   ]
  },
  {
   "cell_type": "code",
   "execution_count": 32,
   "id": "aerial-shaft",
   "metadata": {},
   "outputs": [],
   "source": [
    "open('visualization/comparison USA vs.Italia-March_2020.html', 'wb').write(html.encode('utf-8'));"
   ]
  },
  {
   "cell_type": "markdown",
   "id": "major-michigan",
   "metadata": {},
   "source": [
    "### Important words comparision from Scattertext: \n",
    "* USA: 'tolietpaper'(71 vs. 36 per 1000 tweets), 'gas'(29 vs. 10), 'scams'(21 vs. 6)...\n",
    "* Italia: 'panic'(39 vs. 99), 'lockdown'(9 vs. 30), 'hoarding'(10 vs.20)...\n",
    "* Sharing words: 'jobs', 'testing'..."
   ]
  },
  {
   "cell_type": "markdown",
   "id": "guilty-pleasure",
   "metadata": {},
   "source": [
    "### Visualize comparison for 3 country with most tweets - USA & Italia & UK"
   ]
  },
  {
   "cell_type": "code",
   "execution_count": 33,
   "id": "continuous-strength",
   "metadata": {
    "scrolled": true
   },
   "outputs": [
    {
     "data": {
      "text/plain": [
       "United States     1494\n",
       "Italia            1043\n",
       "United Kingdom     720\n",
       "Name: Country, dtype: int64"
      ]
     },
     "execution_count": 33,
     "metadata": {},
     "output_type": "execute_result"
    }
   ],
   "source": [
    "mask = (tweet_topic_matrix_df.Country == 'United States') | (tweet_topic_matrix_df.Country == 'Italia') |(tweet_topic_matrix_df.Country == 'United Kingdom')\n",
    "new_df = tweet_topic_matrix_df[mask]\n",
    "new_df.Country.value_counts()"
   ]
  },
  {
   "cell_type": "code",
   "execution_count": 34,
   "id": "respected-iceland",
   "metadata": {},
   "outputs": [
    {
     "data": {
      "text/html": [
       "<div>\n",
       "<style scoped>\n",
       "    .dataframe tbody tr th:only-of-type {\n",
       "        vertical-align: middle;\n",
       "    }\n",
       "\n",
       "    .dataframe tbody tr th {\n",
       "        vertical-align: top;\n",
       "    }\n",
       "\n",
       "    .dataframe thead th {\n",
       "        text-align: right;\n",
       "    }\n",
       "</style>\n",
       "<table border=\"1\" class=\"dataframe\">\n",
       "  <thead>\n",
       "    <tr style=\"text-align: right;\">\n",
       "      <th></th>\n",
       "      <th>Topics</th>\n",
       "      <th>Country</th>\n",
       "      <th>Average_Topic_Score</th>\n",
       "    </tr>\n",
       "  </thead>\n",
       "  <tbody>\n",
       "    <tr>\n",
       "      <th>0</th>\n",
       "      <td>topic_1</td>\n",
       "      <td>Italia</td>\n",
       "      <td>0.010639</td>\n",
       "    </tr>\n",
       "    <tr>\n",
       "      <th>1</th>\n",
       "      <td>topic_1</td>\n",
       "      <td>United Kingdom</td>\n",
       "      <td>0.011291</td>\n",
       "    </tr>\n",
       "    <tr>\n",
       "      <th>2</th>\n",
       "      <td>topic_1</td>\n",
       "      <td>United States</td>\n",
       "      <td>0.007335</td>\n",
       "    </tr>\n",
       "    <tr>\n",
       "      <th>3</th>\n",
       "      <td>topic_2</td>\n",
       "      <td>Italia</td>\n",
       "      <td>0.016632</td>\n",
       "    </tr>\n",
       "    <tr>\n",
       "      <th>4</th>\n",
       "      <td>topic_2</td>\n",
       "      <td>United Kingdom</td>\n",
       "      <td>0.003747</td>\n",
       "    </tr>\n",
       "  </tbody>\n",
       "</table>\n",
       "</div>"
      ],
      "text/plain": [
       "    Topics         Country  Average_Topic_Score\n",
       "0  topic_1          Italia             0.010639\n",
       "1  topic_1  United Kingdom             0.011291\n",
       "2  topic_1   United States             0.007335\n",
       "3  topic_2          Italia             0.016632\n",
       "4  topic_2  United Kingdom             0.003747"
      ]
     },
     "execution_count": 34,
     "metadata": {},
     "output_type": "execute_result"
    }
   ],
   "source": [
    "#group by country, then flatten dataframe\n",
    "data = new_df[[\"topic_1\",\"topic_2\", \"topic_3\",\"topic_4\",\"topic_5\",\"topic_6\",\"topic_7\",\"topic_8\", \"topic_9\", \"topic_10\",\"Country\"]].groupby(['Country']).mean().unstack().reset_index()\n",
    "data.columns = ['Topics', 'Country', 'Average_Topic_Score']\n",
    "data.head()"
   ]
  },
  {
   "cell_type": "code",
   "execution_count": 35,
   "id": "collected-century",
   "metadata": {},
   "outputs": [
    {
     "data": {
      "image/png": "[encoded data removed]",
      "text/plain": [
       "<Figure size 1080x432 with 1 Axes>"
      ]
     },
     "metadata": {},
     "output_type": "display_data"
    }
   ],
   "source": [
    "plt.figure(figsize = [15,6])\n",
    "sns.barplot(x=data.Topics, y=data['Average_Topic_Score'], data=data, hue = data.Country)\n",
    "plt.title(\"Comparision on 10 top topics-US_Italia_UK\", fontsize = 20)\n",
    "plt.xlabel(\"10 Top Topics\", fontsize = 14)\n",
    "plt.ylabel(\"Average Topic Score\", fontsize = 14)\n",
    "plt.savefig('visualization/Bar Chart on 10 topics Comparision-US_Italia_UK.png')"
   ]
  },
  {
   "cell_type": "markdown",
   "id": "periodic-study",
   "metadata": {},
   "source": [
    "### (3)Top 10 topic for each country('United States', 'Italia', 'United Kingkom')"
   ]
  },
  {
   "cell_type": "code",
   "execution_count": 36,
   "id": "different-blame",
   "metadata": {},
   "outputs": [],
   "source": [
    "def country_topic_modeling(country):\n",
    "    corpus = df_sample_clean[df_sample_clean.Country == country]['Cleaned_Tweet']\n",
    "\n",
    "    #set stop words\n",
    "    stop_words = ENGLISH_STOP_WORDS.union(['covid', '19', 'covid19', 'coronavirus', 'covid_19'])\n",
    "    vectorizer = TfidfVectorizer(stop_words=stop_words) \n",
    "\n",
    "    tweet_word_matrix = vectorizer.fit_transform(corpus) #document term sparse matrix\n",
    "    print(tweet_word_matrix.shape) \n",
    "    vocab = vectorizer.get_feature_names()  #list of all the unique values/words\n",
    "    # pd.DataFrame(tweet_word_matrix.toarray(), index=corpus, columns=vocab)  #no dataframe for larger dataset\n",
    "\n",
    "    nmf_10 = NMF(n_components=10)  #top 10 topic\n",
    "    tweet_topic_matrix = nmf_10.fit_transform(tweet_word_matrix) \n",
    "    tweet_topic_matrix_df = pd.DataFrame(tweet_topic_matrix, columns = [\"topic_1\",\"topic_2\", \"topic_3\",\"topic_4\", \n",
    "                          \"topic_5\",\"topic_6\",\"topic_7\",\"topic_8\", \"topic_9\", \"topic_10\"])\n",
    "    tweet_topic_matrix_df[['Raw_Tweet', 'Clean_Tweet', 'TweetAt']] = df_sample_clean[df_sample_clean.Country == country].reset_index()[['OriginalTweet', 'Cleaned_Tweet','TweetAt']]\n",
    "    print(tweet_topic_matrix_df.shape)\n",
    "    \n",
    "    topic_words = [] # list of lists, one for each topic\n",
    "\n",
    "    for topic in nmf_10.components_:  # for each components\n",
    "        top_terms = topic.argsort()[-6:]  #argsort: only asending order. top 6 words index for later to locate #a array\n",
    "        topic_words.append([vocab[top_term] for top_term in top_terms])  #use position to get word out from terms\n",
    "                                                                         #list of list\n",
    "\n",
    "    return topic_words"
   ]
  },
  {
   "cell_type": "markdown",
   "id": "trained-coach",
   "metadata": {},
   "source": [
    "### United States top 10 topic "
   ]
  },
  {
   "cell_type": "code",
   "execution_count": 37,
   "id": "mature-importance",
   "metadata": {},
   "outputs": [
    {
     "name": "stdout",
     "output_type": "stream",
     "text": [
      "(1494, 6715)\n",
      "(1494, 13)\n"
     ]
    },
    {
     "data": {
      "text/plain": [
       "[['going', 'stores', 'retail', 'people', 'grocery', 'store'],\n",
       " ['bank', 'need', 'supply', 'panic', 'demand', 'food'],\n",
       " ['toiletpapercrisis', 'people', 'pandemic', 'toiletpaper', 'toilet', 'paper'],\n",
       " ['tips', 'businesses', 'home', 'stay', 'online', 'shopping'],\n",
       " ['oil', 'like', 'cents', 'price', 'gas', 'prices'],\n",
       " ['laundry', 'spray', 'hands', 'make', 'hand', 'sanitizer'],\n",
       " ['spending', 'behavior', 'reports', 'business', 'amp', 'consumer'],\n",
       " ['kroger', 'chain', 'paid', 'leave', 'sick', 'supermarket'],\n",
       " ['fears', 'advantage', 'help', 'tips', 'scams', 'scammers'],\n",
       " ['working', 'nurses', 'people', 'employees', 'thank', 'workers']]"
      ]
     },
     "execution_count": 37,
     "metadata": {},
     "output_type": "execute_result"
    }
   ],
   "source": [
    "country_topic_modeling('United States')"
   ]
  },
  {
   "cell_type": "markdown",
   "id": "banned-tiger",
   "metadata": {},
   "source": [
    "### Italia top 10 topic"
   ]
  },
  {
   "cell_type": "code",
   "execution_count": 38,
   "id": "theoretical-testing",
   "metadata": {},
   "outputs": [
    {
     "name": "stdout",
     "output_type": "stream",
     "text": [
      "(1043, 5492)\n",
      "(1043, 13)\n"
     ]
    },
    {
     "data": {
      "text/plain": [
       "[['help', 'food', 'home', 'stock', 'stay', 'need'],\n",
       " ['stores', 'worker', 'retail', 'going', 'grocery', 'store'],\n",
       " ['toiletpapercrisis', 'run', 'don', 'toiletpaper', 'paper', 'toilet'],\n",
       " ['day', 'lockdown', 'rules', 'new', 'online', 'shopping'],\n",
       " ['demand', 'report', 'shops', 'pandemic', 'oil', 'prices'],\n",
       " ['working', 'lockdown', 'shop', 'shelves', 'local', 'supermarket'],\n",
       " ['youre', 'crazy', 'think', 'time', 'safe', 'people'],\n",
       " ['masks', 'use', 'soap', 'hands', 'hand', 'sanitizer'],\n",
       " ['panicbuying', 'buyers', 'shelves', 'food', 'buying', 'panic'],\n",
       " ['employees', 'delivery', 'drivers', 'thank', 'workers', 'amp']]"
      ]
     },
     "execution_count": 38,
     "metadata": {},
     "output_type": "execute_result"
    }
   ],
   "source": [
    "country_topic_modeling('Italia')"
   ]
  },
  {
   "cell_type": "markdown",
   "id": "final-frank",
   "metadata": {},
   "source": [
    "### United Kingdom top 10 topic"
   ]
  },
  {
   "cell_type": "code",
   "execution_count": 39,
   "id": "ongoing-disney",
   "metadata": {},
   "outputs": [
    {
     "name": "stdout",
     "output_type": "stream",
     "text": [
      "(720, 4099)\n",
      "(720, 13)\n"
     ]
    },
    {
     "data": {
      "text/plain": [
       "[['opening', 'hours', 'nhs', 'staff', 'workers', 'supermarket'],\n",
       " ['stoppanicbuying', 'buy', 'stop', 'buying', 'panic', 'food'],\n",
       " ['companies', 'pandemic', 'hiking', 'report', 'shops', 'prices'],\n",
       " ['just', 'delivery', 'order', 'slots', 'online', 'shopping'],\n",
       " ['need', 'shelves', 'think', 'supermarket', 'stop', 'people'],\n",
       " ['roll', 'bread', 'like', 'supermarket', 'toilet', 'local'],\n",
       " ['dont', 'work', 'safe', 'time', 'stay', 'home'],\n",
       " ['aldiuk', 'lidlgb', 'morrisons', 'sainsburys', 'asda', 'tesco'],\n",
       " ['closed', 'social', 'hand', 'store', 'sanitizer', 'amp'],\n",
       " ['service', 'read', 'contracts', 'outbreak', 'uk', 'consumer']]"
      ]
     },
     "execution_count": 39,
     "metadata": {},
     "output_type": "execute_result"
    }
   ],
   "source": [
    "country_topic_modeling('United Kingdom')"
   ]
  },
  {
   "cell_type": "markdown",
   "id": "lined-alfred",
   "metadata": {},
   "source": [
    "# Step 7: Clustering - Kmeans"
   ]
  },
  {
   "cell_type": "code",
   "execution_count": 40,
   "id": "demanding-blair",
   "metadata": {},
   "outputs": [],
   "source": [
    "X = tweet_topic_matrix_df[[\"topic_1\",\"topic_2\", \"topic_3\",\"topic_4\", \n",
    "                      \"topic_5\",\"topic_6\",\"topic_7\",\"topic_8\", \"topic_9\", \"topic_10\"]] #10 dimension "
   ]
  },
  {
   "cell_type": "code",
   "execution_count": 41,
   "id": "peripheral-insurance",
   "metadata": {},
   "outputs": [],
   "source": [
    "# Elbow method & silhouettes to pick K\n",
    "inertias = []\n",
    "silhouettes = []\n",
    "clusters = range(2,15)\n",
    "\n",
    "for num_clusters in clusters:\n",
    "    km = KMeans(n_clusters=num_clusters)\n",
    "    km.fit(X)\n",
    "    inertias.append(km.inertia_)\n",
    "    silhouettes.append(silhouette_score(X, labels = km.labels_))"
   ]
  },
  {
   "cell_type": "code",
   "execution_count": 42,
   "id": "wooden-liquid",
   "metadata": {},
   "outputs": [
    {
     "data": {
      "image/png": "[encoded data removed]",
      "text/plain": [
       "<Figure size 432x288 with 1 Axes>"
      ]
     },
     "metadata": {},
     "output_type": "display_data"
    }
   ],
   "source": [
    "fig,ax = plt.subplots()\n",
    "ax.plot(clusters,inertias)  # 10 cluster? 6 cluster? \n",
    "plt.title(\"Elow Method for different k\", fontsize = 20)\n",
    "plt.xlabel(\"k\", fontsize = 14)\n",
    "plt.ylabel('inertia_', fontsize = 14)\n",
    "plt.savefig('visualization/Elbow_Method_for_clustering.png')"
   ]
  },
  {
   "cell_type": "code",
   "execution_count": 43,
   "id": "vertical-orleans",
   "metadata": {},
   "outputs": [
    {
     "data": {
      "text/plain": [
       "[0.24080239392031863,\n",
       " 0.21520531648798163,\n",
       " 0.23523769186749333,\n",
       " 0.2536077580191261,\n",
       " 0.27706005662944333,\n",
       " 0.3069303809198805,\n",
       " 0.32750672265686426,\n",
       " 0.33901643861806685,\n",
       " 0.3542065394950113,\n",
       " 0.33322448877961586,\n",
       " 0.32889302105113855,\n",
       " 0.3246210714858453,\n",
       " 0.3192720938147825]"
      ]
     },
     "execution_count": 43,
     "metadata": {},
     "output_type": "execute_result"
    }
   ],
   "source": [
    "silhouettes #range(2,15) "
   ]
  },
  {
   "cell_type": "code",
   "execution_count": 44,
   "id": "finnish-vessel",
   "metadata": {
    "scrolled": true
   },
   "outputs": [
    {
     "name": "stdout",
     "output_type": "stream",
     "text": [
      "Automatically created module for IPython interactive environment\n",
      "For n_clusters = 2 The average silhouette_score is : 0.24080239392031863\n",
      "For n_clusters = 4 The average silhouette_score is : 0.24517348898025604\n",
      "For n_clusters = 6 The average silhouette_score is : 0.2918675095032771\n",
      "For n_clusters = 8 The average silhouette_score is : 0.32746901219328695\n",
      "For n_clusters = 10 The average silhouette_score is : 0.3541161402451348\n"
     ]
    },
    {
     "data": {
      "image/png": "[encoded data removed]",
      "text/plain": [
       "<Figure size 1296x504 with 1 Axes>"
      ]
     },
     "metadata": {},
     "output_type": "display_data"
    },
    {
     "data": {
      "image/png": "[encoded data removed]",
      "text/plain": [
       "<Figure size 1296x504 with 1 Axes>"
      ]
     },
     "metadata": {},
     "output_type": "display_data"
    },
    {
     "data": {
      "image/png": "[encoded data removed]",
      "text/plain": [
       "<Figure size 1296x504 with 1 Axes>"
      ]
     },
     "metadata": {},
     "output_type": "display_data"
    },
    {
     "data": {
      "image/png": "[encoded data removed]",
      "text/plain": [
       "<Figure size 1296x504 with 1 Axes>"
      ]
     },
     "metadata": {},
     "output_type": "display_data"
    },
    {
     "data": {
      "image/png": "[encoded data removed]",
      "text/plain": [
       "<Figure size 1296x504 with 1 Axes>"
      ]
     },
     "metadata": {},
     "output_type": "display_data"
    },
    {
     "data": {
      "text/plain": [
       "<Figure size 432x288 with 0 Axes>"
      ]
     },
     "metadata": {},
     "output_type": "display_data"
    }
   ],
   "source": [
    "#Selecting the number of clusters with silhouette analysis on KMeans clustering\n",
    "from sklearn.datasets import make_blobs\n",
    "from sklearn.metrics import silhouette_samples, silhouette_score\n",
    "\n",
    "import matplotlib.cm as cm\n",
    "\n",
    "print(__doc__)\n",
    "\n",
    "\n",
    "range_n_clusters = [2, 4, 6, 8, 10]\n",
    "\n",
    "for n_clusters in range_n_clusters:\n",
    "    # Create a subplot with 1 row and 2 columns\n",
    "    fig, ax = plt.subplots()\n",
    "    fig.set_size_inches(18, 7)\n",
    "\n",
    "    # The 1st subplot is the silhouette plot\n",
    "    # The silhouette coefficient can range from -1, 1 but in this example all\n",
    "    # lie within [-0.1, 1]\n",
    "    ax.set_xlim([-0.1, 1])\n",
    "    # The (n_clusters+1)*10 is for inserting blank space between silhouette\n",
    "    # plots of individual clusters, to demarcate them clearly.\n",
    "    ax.set_ylim([0, len(X) + (n_clusters + 1) * 10])\n",
    "\n",
    "    # Initialize the clusterer with n_clusters value and a random generator\n",
    "    # seed of 10 for reproducibility.\n",
    "    clusterer = KMeans(n_clusters=n_clusters, random_state=10)\n",
    "    cluster_labels = clusterer.fit_predict(X)\n",
    "\n",
    "    # The silhouette_score gives the average value for all the samples.\n",
    "    # This gives a perspective into the density and separation of the formed\n",
    "    # clusters\n",
    "    silhouette_avg = silhouette_score(X, cluster_labels)\n",
    "    print(\"For n_clusters =\", n_clusters,\n",
    "          \"The average silhouette_score is :\", silhouette_avg)\n",
    "\n",
    "    # Compute the silhouette scores for each sample\n",
    "    sample_silhouette_values = silhouette_samples(X, cluster_labels)\n",
    "\n",
    "    y_lower = 10\n",
    "    for i in range(n_clusters):\n",
    "        # Aggregate the silhouette scores for samples belonging to\n",
    "        # cluster i, and sort them\n",
    "        ith_cluster_silhouette_values = \\\n",
    "            sample_silhouette_values[cluster_labels == i]\n",
    "\n",
    "        ith_cluster_silhouette_values.sort()\n",
    "\n",
    "        size_cluster_i = ith_cluster_silhouette_values.shape[0]\n",
    "        y_upper = y_lower + size_cluster_i\n",
    "\n",
    "        color = cm.nipy_spectral(float(i) / n_clusters)\n",
    "        ax.fill_betweenx(np.arange(y_lower, y_upper),\n",
    "                          0, ith_cluster_silhouette_values,\n",
    "                          facecolor=color, edgecolor=color, alpha=0.7)\n",
    "\n",
    "        # Label the silhouette plots with their cluster numbers at the middle\n",
    "        ax.text(-0.05, y_lower + 0.5 * size_cluster_i, str(i))\n",
    "\n",
    "        # Compute the new y_lower for next plot\n",
    "        y_lower = y_upper + 10  # 10 for the 0 samples\n",
    "\n",
    "    ax.set_title(\"The silhouette plot for the various clusters.\")\n",
    "    ax.set_xlabel(\"The silhouette coefficient values\")\n",
    "    ax.set_ylabel(\"Cluster label\")\n",
    "\n",
    "    # The vertical line for average silhouette score of all the values\n",
    "    ax.axvline(x=silhouette_avg, color=\"red\", linestyle=\"--\")\n",
    "\n",
    "    ax.set_yticks([])  # Clear the yaxis labels / ticks\n",
    "    ax.set_xticks([-0.1, 0, 0.2, 0.4, 0.6, 0.8, 1])\n",
    "\n",
    "    \n",
    "plt.show()\n",
    "plt.savefig('visualization/silhouette analysis on KMeans clustering.png')"
   ]
  },
  {
   "cell_type": "markdown",
   "id": "wicked-stomach",
   "metadata": {},
   "source": [
    "### KMeans(6 clusters)"
   ]
  },
  {
   "cell_type": "code",
   "execution_count": 45,
   "id": "biological-documentation",
   "metadata": {},
   "outputs": [],
   "source": [
    "# training model\n",
    "X = tweet_topic_matrix_df[[\"topic_1\",\"topic_2\", \"topic_3\",\"topic_4\", \n",
    "                      \"topic_5\",\"topic_6\", \"topic_7\", \"topic_8\", \"topic_9\", \"topic_10\"]] #10 dimension \n",
    "km = KMeans(n_clusters=6)\n",
    "km.fit(X)\n",
    "pred_classes = km.predict(X)  #prediction"
   ]
  },
  {
   "cell_type": "code",
   "execution_count": 46,
   "id": "written-concert",
   "metadata": {},
   "outputs": [
    {
     "data": {
      "text/html": [
       "<div>\n",
       "<style scoped>\n",
       "    .dataframe tbody tr th:only-of-type {\n",
       "        vertical-align: middle;\n",
       "    }\n",
       "\n",
       "    .dataframe tbody tr th {\n",
       "        vertical-align: top;\n",
       "    }\n",
       "\n",
       "    .dataframe thead th {\n",
       "        text-align: right;\n",
       "    }\n",
       "</style>\n",
       "<table border=\"1\" class=\"dataframe\">\n",
       "  <thead>\n",
       "    <tr style=\"text-align: right;\">\n",
       "      <th></th>\n",
       "      <th>topic_1</th>\n",
       "      <th>topic_2</th>\n",
       "      <th>topic_3</th>\n",
       "      <th>topic_4</th>\n",
       "      <th>topic_5</th>\n",
       "      <th>topic_6</th>\n",
       "      <th>topic_7</th>\n",
       "      <th>topic_8</th>\n",
       "      <th>topic_9</th>\n",
       "      <th>topic_10</th>\n",
       "      <th>Raw_Tweet</th>\n",
       "      <th>Clean_Tweet</th>\n",
       "      <th>TweetAt</th>\n",
       "      <th>Country</th>\n",
       "      <th>Cluster_label</th>\n",
       "    </tr>\n",
       "  </thead>\n",
       "  <tbody>\n",
       "    <tr>\n",
       "      <th>0</th>\n",
       "      <td>0.000000</td>\n",
       "      <td>0.000000</td>\n",
       "      <td>0.003183</td>\n",
       "      <td>0.000000</td>\n",
       "      <td>0.005079</td>\n",
       "      <td>0.074459</td>\n",
       "      <td>0.000000</td>\n",
       "      <td>0.000000</td>\n",
       "      <td>0.000000</td>\n",
       "      <td>0.081390</td>\n",
       "      <td>Supermarket #purchaselimits mean people have to shop more often to get basics like milk, each time with possible exposure to the #coronavirus \\r\\r\\nSupermarkets your well-meaning restrictions will end up killing people.\\r\\r\\n\\r\\r\\n#StayHome #StayHomeStaySafe</td>\n",
       "      <td>supermarket purchaselimits mean people have to shop more often to get basics like milk each time with possible exposure to the coronavirus supermarkets your wellmeaning restrictions will end up killing peoplestayhome stayhomestaysafe</td>\n",
       "      <td>2020-03-25</td>\n",
       "      <td>Italia</td>\n",
       "      <td>5</td>\n",
       "    </tr>\n",
       "    <tr>\n",
       "      <th>1</th>\n",
       "      <td>0.004982</td>\n",
       "      <td>0.046613</td>\n",
       "      <td>0.000000</td>\n",
       "      <td>0.038355</td>\n",
       "      <td>0.000000</td>\n",
       "      <td>0.027463</td>\n",
       "      <td>0.000000</td>\n",
       "      <td>0.000000</td>\n",
       "      <td>0.000000</td>\n",
       "      <td>0.091338</td>\n",
       "      <td>People want to hope #coronavirus comes with a 6 month case of diarrhea, else they are going to need to build an addition to store all their toiletpaper.  Shelves empty at SuperStore again today.</td>\n",
       "      <td>people want to hope coronavirus comes with a   month case of diarrhea else they are going to need to build an addition to store all their toiletpaper  shelves empty at superstore again today</td>\n",
       "      <td>2020-03-21</td>\n",
       "      <td>Canada</td>\n",
       "      <td>0</td>\n",
       "    </tr>\n",
       "    <tr>\n",
       "      <th>2</th>\n",
       "      <td>0.000000</td>\n",
       "      <td>0.000000</td>\n",
       "      <td>0.000000</td>\n",
       "      <td>0.000000</td>\n",
       "      <td>0.000000</td>\n",
       "      <td>0.000000</td>\n",
       "      <td>0.000000</td>\n",
       "      <td>0.070067</td>\n",
       "      <td>0.081848</td>\n",
       "      <td>0.000000</td>\n",
       "      <td>MEDIA ADVISORY A panel convened by amp the Kenan Institute will be offering a press briefing on the dramatic short and long term impact of the 19 financial downturn on personal amp consumer finance Join Tues March 24 at 11 a m</td>\n",
       "      <td>media advisory a panel convened by amp the kenan institute will be offering a press briefing on the dramatic short and long term impact of the   financial downturn on personal amp consumer finance join tues march   at   a m</td>\n",
       "      <td>2020-03-23</td>\n",
       "      <td>United States</td>\n",
       "      <td>3</td>\n",
       "    </tr>\n",
       "    <tr>\n",
       "      <th>3</th>\n",
       "      <td>0.000000</td>\n",
       "      <td>0.080335</td>\n",
       "      <td>0.001536</td>\n",
       "      <td>0.000218</td>\n",
       "      <td>0.001808</td>\n",
       "      <td>0.002330</td>\n",
       "      <td>0.000000</td>\n",
       "      <td>0.000000</td>\n",
       "      <td>0.003821</td>\n",
       "      <td>0.000000</td>\n",
       "      <td>New Jersey Man Charged with Terroristic Threats for Deliberately Coughing on Grocery Store Worker And Stating He Had Covid 19 Faces a 7 year prison sentence via</td>\n",
       "      <td>new jersey man charged with terroristic threats for deliberately coughing on grocery store worker and stating he had covid   faces a   year prison sentence via</td>\n",
       "      <td>2020-03-26</td>\n",
       "      <td>United States</td>\n",
       "      <td>0</td>\n",
       "    </tr>\n",
       "    <tr>\n",
       "      <th>4</th>\n",
       "      <td>0.000610</td>\n",
       "      <td>0.002638</td>\n",
       "      <td>0.002892</td>\n",
       "      <td>0.000201</td>\n",
       "      <td>0.000000</td>\n",
       "      <td>0.004577</td>\n",
       "      <td>0.000000</td>\n",
       "      <td>0.000845</td>\n",
       "      <td>0.001365</td>\n",
       "      <td>0.003110</td>\n",
       "      <td>A COVID-19 Cure for Restaurants: Reaching Older Diners : https://t.co/kZaVPbZ53w #foodservices</td>\n",
       "      <td>a   cure for restaurants reaching older diners   foodservices</td>\n",
       "      <td>2020-03-17</td>\n",
       "      <td>Italia</td>\n",
       "      <td>3</td>\n",
       "    </tr>\n",
       "    <tr>\n",
       "      <th>...</th>\n",
       "      <td>...</td>\n",
       "      <td>...</td>\n",
       "      <td>...</td>\n",
       "      <td>...</td>\n",
       "      <td>...</td>\n",
       "      <td>...</td>\n",
       "      <td>...</td>\n",
       "      <td>...</td>\n",
       "      <td>...</td>\n",
       "      <td>...</td>\n",
       "      <td>...</td>\n",
       "      <td>...</td>\n",
       "      <td>...</td>\n",
       "      <td>...</td>\n",
       "      <td>...</td>\n",
       "    </tr>\n",
       "    <tr>\n",
       "      <th>4995</th>\n",
       "      <td>0.004523</td>\n",
       "      <td>0.001029</td>\n",
       "      <td>0.000000</td>\n",
       "      <td>0.006035</td>\n",
       "      <td>0.000000</td>\n",
       "      <td>0.001941</td>\n",
       "      <td>0.000672</td>\n",
       "      <td>0.000425</td>\n",
       "      <td>0.011077</td>\n",
       "      <td>0.012193</td>\n",
       "      <td>Ummmmmmmmmm, how bout, shit you need?! The jeanyuses at @CNN providing rock-solid information, as always. Ay Dios mio! ? #FakeNews #coronavirus \\r\\r\\nhttps://t.co/X22lyFwgAI</td>\n",
       "      <td>ummmmmmmmmm how bout shit you need the jeanyuses at cnn providing rocksolid information as always ay dios mio  fakenews coronavirus</td>\n",
       "      <td>2020-03-17</td>\n",
       "      <td>United States</td>\n",
       "      <td>3</td>\n",
       "    </tr>\n",
       "    <tr>\n",
       "      <th>4996</th>\n",
       "      <td>0.000000</td>\n",
       "      <td>0.034130</td>\n",
       "      <td>0.118662</td>\n",
       "      <td>0.000000</td>\n",
       "      <td>0.000000</td>\n",
       "      <td>0.000074</td>\n",
       "      <td>0.000000</td>\n",
       "      <td>0.000000</td>\n",
       "      <td>0.000000</td>\n",
       "      <td>0.000000</td>\n",
       "      <td>Happy Spring! ? Our online store is now open!\\r\\r\\n\\r\\r\\nThe retail shop is now closed due to COVID-19. Front-door, daily pick-up of online orders will be from 11am-2pm. \\r\\r\\n\\r\\r\\nOrder online at https://t.co/IYcVRHj8JX for shipping or next day pick-up. \\r\\r\\n\\r\\r\\nP.S. Hopped Pear is back! ? #cider https://t.co/JAuBoajf4V</td>\n",
       "      <td>happy spring  our online store is now openthe retail shop is now closed due to   frontdoor daily pickup of online orders will be from   order online at  for shipping or next day pickup ps hopped pear is back  cider</td>\n",
       "      <td>2020-03-21</td>\n",
       "      <td>Canada</td>\n",
       "      <td>2</td>\n",
       "    </tr>\n",
       "    <tr>\n",
       "      <th>4997</th>\n",
       "      <td>0.000000</td>\n",
       "      <td>0.070720</td>\n",
       "      <td>0.000784</td>\n",
       "      <td>0.002910</td>\n",
       "      <td>0.000000</td>\n",
       "      <td>0.014767</td>\n",
       "      <td>0.000000</td>\n",
       "      <td>0.000000</td>\n",
       "      <td>0.004190</td>\n",
       "      <td>0.058156</td>\n",
       "      <td>Let's not forget that people only post the negative on social media in terms of Corovnavirus hysteria.\\r\\r\\n\\r\\r\\nNo one is going to say they went to the grocery store and everything went seamless. \\r\\r\\n\\r\\r\\nThis does not get attention and the sole reason hysteria exists.\\r\\r\\n\\r\\r\\n#coronavirus</td>\n",
       "      <td>lets not forget that people only post the negative on social media in terms of corovnavirus hysteriano one is going to say they went to the grocery store and everything went seamless this does not get attention and the sole reason hysteria existscoronavirus</td>\n",
       "      <td>2020-03-18</td>\n",
       "      <td>United States</td>\n",
       "      <td>0</td>\n",
       "    </tr>\n",
       "    <tr>\n",
       "      <th>4998</th>\n",
       "      <td>0.008986</td>\n",
       "      <td>0.000000</td>\n",
       "      <td>0.000000</td>\n",
       "      <td>0.008575</td>\n",
       "      <td>0.050888</td>\n",
       "      <td>0.000000</td>\n",
       "      <td>0.000000</td>\n",
       "      <td>0.000000</td>\n",
       "      <td>0.000000</td>\n",
       "      <td>0.079961</td>\n",
       "      <td>I have been saying it for bout 10yrs now I don t understand why we need the stock market anyways What is the point of it All it is is a bunch of people hedging bets on what prices should be for something In really serves no purpose</td>\n",
       "      <td>i have been saying it for bout   now i don t understand why we need the stock market anyways what is the point of it all it is is a bunch of people hedging bets on what prices should be for something in really serves no purpose</td>\n",
       "      <td>2020-03-25</td>\n",
       "      <td>United States</td>\n",
       "      <td>3</td>\n",
       "    </tr>\n",
       "    <tr>\n",
       "      <th>4999</th>\n",
       "      <td>0.000000</td>\n",
       "      <td>0.147010</td>\n",
       "      <td>0.000000</td>\n",
       "      <td>0.000000</td>\n",
       "      <td>0.000000</td>\n",
       "      <td>0.000000</td>\n",
       "      <td>0.000000</td>\n",
       "      <td>0.000000</td>\n",
       "      <td>0.000000</td>\n",
       "      <td>0.000000</td>\n",
       "      <td>Seeing my mom in the grocery store and I cant even give her a hug</td>\n",
       "      <td>seeing my mom in the grocery store and i cant even give her a hug</td>\n",
       "      <td>2020-03-27</td>\n",
       "      <td>Canada</td>\n",
       "      <td>0</td>\n",
       "    </tr>\n",
       "  </tbody>\n",
       "</table>\n",
       "<p>5000 rows × 15 columns</p>\n",
       "</div>"
      ],
      "text/plain": [
       "       topic_1   topic_2   topic_3   topic_4   topic_5   topic_6   topic_7  \\\n",
       "0     0.000000  0.000000  0.003183  0.000000  0.005079  0.074459  0.000000   \n",
       "1     0.004982  0.046613  0.000000  0.038355  0.000000  0.027463  0.000000   \n",
       "2     0.000000  0.000000  0.000000  0.000000  0.000000  0.000000  0.000000   \n",
       "3     0.000000  0.080335  0.001536  0.000218  0.001808  0.002330  0.000000   \n",
       "4     0.000610  0.002638  0.002892  0.000201  0.000000  0.004577  0.000000   \n",
       "...        ...       ...       ...       ...       ...       ...       ...   \n",
       "4995  0.004523  0.001029  0.000000  0.006035  0.000000  0.001941  0.000672   \n",
       "4996  0.000000  0.034130  0.118662  0.000000  0.000000  0.000074  0.000000   \n",
       "4997  0.000000  0.070720  0.000784  0.002910  0.000000  0.014767  0.000000   \n",
       "4998  0.008986  0.000000  0.000000  0.008575  0.050888  0.000000  0.000000   \n",
       "4999  0.000000  0.147010  0.000000  0.000000  0.000000  0.000000  0.000000   \n",
       "\n",
       "       topic_8   topic_9  topic_10  \\\n",
       "0     0.000000  0.000000  0.081390   \n",
       "1     0.000000  0.000000  0.091338   \n",
       "2     0.070067  0.081848  0.000000   \n",
       "3     0.000000  0.003821  0.000000   \n",
       "4     0.000845  0.001365  0.003110   \n",
       "...        ...       ...       ...   \n",
       "4995  0.000425  0.011077  0.012193   \n",
       "4996  0.000000  0.000000  0.000000   \n",
       "4997  0.000000  0.004190  0.058156   \n",
       "4998  0.000000  0.000000  0.079961   \n",
       "4999  0.000000  0.000000  0.000000   \n",
       "\n",
       "                                                                                                                                                                                                                                                                                                                                   Raw_Tweet  \\\n",
       "0                                                                         Supermarket #purchaselimits mean people have to shop more often to get basics like milk, each time with possible exposure to the #coronavirus \\r\\r\\nSupermarkets your well-meaning restrictions will end up killing people.\\r\\r\\n\\r\\r\\n#StayHome #StayHomeStaySafe   \n",
       "1                                                                                                                                         People want to hope #coronavirus comes with a 6 month case of diarrhea, else they are going to need to build an addition to store all their toiletpaper.  Shelves empty at SuperStore again today.   \n",
       "2                                                                                                         MEDIA ADVISORY A panel convened by amp the Kenan Institute will be offering a press briefing on the dramatic short and long term impact of the 19 financial downturn on personal amp consumer finance Join Tues March 24 at 11 a m   \n",
       "3                                                                                                                                                                           New Jersey Man Charged with Terroristic Threats for Deliberately Coughing on Grocery Store Worker And Stating He Had Covid 19 Faces a 7 year prison sentence via   \n",
       "4                                                                                                                                                                                                                                             A COVID-19 Cure for Restaurants: Reaching Older Diners : https://t.co/kZaVPbZ53w #foodservices   \n",
       "...                                                                                                                                                                                                                                                                                                                                      ...   \n",
       "4995                                                                                                                                                           Ummmmmmmmmm, how bout, shit you need?! The jeanyuses at @CNN providing rock-solid information, as always. Ay Dios mio! ? #FakeNews #coronavirus \\r\\r\\nhttps://t.co/X22lyFwgAI   \n",
       "4996  Happy Spring! ? Our online store is now open!\\r\\r\\n\\r\\r\\nThe retail shop is now closed due to COVID-19. Front-door, daily pick-up of online orders will be from 11am-2pm. \\r\\r\\n\\r\\r\\nOrder online at https://t.co/IYcVRHj8JX for shipping or next day pick-up. \\r\\r\\n\\r\\r\\nP.S. Hopped Pear is back! ? #cider https://t.co/JAuBoajf4V   \n",
       "4997                              Let's not forget that people only post the negative on social media in terms of Corovnavirus hysteria.\\r\\r\\n\\r\\r\\nNo one is going to say they went to the grocery store and everything went seamless. \\r\\r\\n\\r\\r\\nThis does not get attention and the sole reason hysteria exists.\\r\\r\\n\\r\\r\\n#coronavirus   \n",
       "4998                                                                                                 I have been saying it for bout 10yrs now I don t understand why we need the stock market anyways What is the point of it All it is is a bunch of people hedging bets on what prices should be for something In really serves no purpose   \n",
       "4999                                                                                                                                                                                                                                                                     Seeing my mom in the grocery store and I cant even give her a hug     \n",
       "\n",
       "                                                                                                                                                                                                                                                            Clean_Tweet  \\\n",
       "0                             supermarket purchaselimits mean people have to shop more often to get basics like milk each time with possible exposure to the coronavirus supermarkets your wellmeaning restrictions will end up killing peoplestayhome stayhomestaysafe   \n",
       "1                                                                        people want to hope coronavirus comes with a   month case of diarrhea else they are going to need to build an addition to store all their toiletpaper  shelves empty at superstore again today   \n",
       "2                                       media advisory a panel convened by amp the kenan institute will be offering a press briefing on the dramatic short and long term impact of the   financial downturn on personal amp consumer finance join tues march   at   a m   \n",
       "3                                                                                                       new jersey man charged with terroristic threats for deliberately coughing on grocery store worker and stating he had covid   faces a   year prison sentence via   \n",
       "4                                                                                                                                                                                                         a   cure for restaurants reaching older diners   foodservices   \n",
       "...                                                                                                                                                                                                                                                                 ...   \n",
       "4995                                                                                                                               ummmmmmmmmm how bout shit you need the jeanyuses at cnn providing rocksolid information as always ay dios mio  fakenews coronavirus    \n",
       "4996                                            happy spring  our online store is now openthe retail shop is now closed due to   frontdoor daily pickup of online orders will be from   order online at  for shipping or next day pickup ps hopped pear is back  cider    \n",
       "4997  lets not forget that people only post the negative on social media in terms of corovnavirus hysteriano one is going to say they went to the grocery store and everything went seamless this does not get attention and the sole reason hysteria existscoronavirus   \n",
       "4998                                i have been saying it for bout   now i don t understand why we need the stock market anyways what is the point of it all it is is a bunch of people hedging bets on what prices should be for something in really serves no purpose   \n",
       "4999                                                                                                                                                                                                seeing my mom in the grocery store and i cant even give her a hug     \n",
       "\n",
       "         TweetAt        Country  Cluster_label  \n",
       "0     2020-03-25         Italia              5  \n",
       "1     2020-03-21         Canada              0  \n",
       "2     2020-03-23  United States              3  \n",
       "3     2020-03-26  United States              0  \n",
       "4     2020-03-17         Italia              3  \n",
       "...          ...            ...            ...  \n",
       "4995  2020-03-17  United States              3  \n",
       "4996  2020-03-21         Canada              2  \n",
       "4997  2020-03-18  United States              0  \n",
       "4998  2020-03-25  United States              3  \n",
       "4999  2020-03-27         Canada              0  \n",
       "\n",
       "[5000 rows x 15 columns]"
      ]
     },
     "execution_count": 46,
     "metadata": {},
     "output_type": "execute_result"
    }
   ],
   "source": [
    "#adding group labels to each tweets\n",
    "tweet_topic_matrix_df['Cluster_label'] = pred_classes\n",
    "tweet_topic_matrix_df"
   ]
  },
  {
   "cell_type": "markdown",
   "id": "intellectual-demonstration",
   "metadata": {},
   "source": [
    "### Interperate clusters: each cluster are with a combination of different topics.\n",
    "### Only return the top 3 topics for each cluster"
   ]
  },
  {
   "cell_type": "code",
   "execution_count": 47,
   "id": "normal-memorial",
   "metadata": {},
   "outputs": [
    {
     "name": "stdout",
     "output_type": "stream",
     "text": [
      "Cluster 0 : [(64.3751220759105, 'topic_2'), (15.363191824189656, 'topic_8'), (11.147006688819417, 'topic_10')]\n",
      "Cluster 1 : [(24.827479491956435, 'topic_4'), (2.745864987453087, 'topic_10'), (2.640498239385219, 'topic_2')]\n",
      "Cluster 2 : [(31.61870717815342, 'topic_3'), (3.760100331269909, 'topic_10'), (2.4983375320074384, 'topic_8')]\n",
      "Cluster 3 : [(64.83739430875468, 'topic_5'), (54.42857445726706, 'topic_9'), (32.91785243720484, 'topic_1')]\n",
      "Cluster 4 : [(29.584803259131796, 'topic_7'), (2.182071744214248, 'topic_8'), (2.0860851064409784, 'topic_5')]\n",
      "Cluster 5 : [(62.645223985230444, 'topic_6'), (14.732298844021845, 'topic_10'), (12.685392373037176, 'topic_8')]\n"
     ]
    }
   ],
   "source": [
    "my_topics = [\"topic_1\",\"topic_2\", \"topic_3\",\"topic_4\", \"topic_5\",\n",
    "             \"topic_6\",\"topic_7\",\"topic_8\", \"topic_9\", \"topic_10\"]\n",
    "for i in range(6):\n",
    "    top_topics = []\n",
    "    for t in my_topics:\n",
    "        top_topics.append((np.sum(tweet_topic_matrix_df[tweet_topic_matrix_df['Cluster_label']==i][t]),t))\n",
    "    top_topics.sort(reverse = True)  #inplace\n",
    "    print(f\"Cluster {i} : {top_topics[:3]}\")"
   ]
  },
  {
   "cell_type": "markdown",
   "id": "joined-failing",
   "metadata": {},
   "source": [
    "### Interpertation \n",
    "Each cluster are with documents with **overlaped topic**, it's also explained why there was negative value for my silhouette analysis plot from earlier"
   ]
  },
  {
   "cell_type": "markdown",
   "id": "convertible-protest",
   "metadata": {},
   "source": [
    "### Next Step: Ingesting new data via Twitter API then compare the current top topics/discussion with March_2020\n",
    "Please see the second notebook for more details"
   ]
  }
 ],
 "metadata": {
  "kernelspec": {
   "display_name": "Python [conda env:metis] *",
   "language": "python",
   "name": "conda-env-metis-py"
  },
  "language_info": {
   "codemirror_mode": {
    "name": "ipython",
    "version": 3
   },
   "file_extension": ".py",
   "mimetype": "text/x-python",
   "name": "python",
   "nbconvert_exporter": "python",
   "pygments_lexer": "ipython3",
   "version": "3.8.8"
  }
 },
 "nbformat": 4,
 "nbformat_minor": 5
}
